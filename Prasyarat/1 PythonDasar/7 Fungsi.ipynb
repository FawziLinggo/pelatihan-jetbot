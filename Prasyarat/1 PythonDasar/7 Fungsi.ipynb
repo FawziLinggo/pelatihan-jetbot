{
 "cells": [
  {
   "cell_type": "markdown",
   "id": "0c571723-a113-4710-8eea-b6a6defcf937",
   "metadata": {},
   "source": [
    "# Pengertian Fungsi (def) Pada Python\n"
   ]
  },
  {
   "cell_type": "markdown",
   "id": "052d2edb-6f68-469c-a1aa-28f25302fb70",
   "metadata": {},
   "source": [
    "Apa itu fungsi (def) pada python?\n",
    "\n",
    "Fungsi pada python adalah kumpulan perintah atau baris kode yang dikelompokkan menjadi satu kesatuan untuk kemudian bisa dipanggil atau digunakan berkali-kali. Sebuah fungsi bisa menerima parameter, bisa mengembalikan suatu nilai, dan bisa dipanggil berkali-kali secara independen.\n",
    "\n",
    "Dengan fungsi kita bisa memecah program besar yang kita tulis, menjadi bagian-bagian kecil dengan tugasnya masing-masing. Juga, fungsi akan membuat kode program kita menjadi lebih “reusable” dan lebih terstruktur.\n",
    "## Sintaks Fungsi\n",
    "Di dalam python, sintaks pembuatan fungsi terlihat seperti berikut:\n",
    "\n",
    "\n"
   ]
  },
  {
   "cell_type": "markdown",
   "id": "4c6d8877-6e45-4f5a-b378-db13183c4060",
   "metadata": {},
   "source": [
    "> def <nama_fungsi>(parameters):\n",
    "\n",
    ">      statements"
   ]
  },
  {
   "cell_type": "markdown",
   "id": "22ec84fb-04b3-45f2-b5bd-b4bcb38beabb",
   "metadata": {},
   "source": [
    "Sintaks di atas secara umum terbagi menjadi 4 bagian:\n",
    "\n",
    "1. Kata kunci def yang menjadi pertanda bahwa blok kode program adalah sebuah fungsi\n",
    "2. Nama fungsi yang kita buat\n",
    "3. Parameters yang akan diterima oleh fungsi yang kita buat (tidak wajib)\n",
    "4. Dan blok kode fungsi yang di sana akan kita tulis perintah-perintah yang harus dilakukan oleh sebuah fungsi"
   ]
  },
  {
   "cell_type": "markdown",
   "id": "1e6fb0a9-905e-4068-8309-7f28d044a82b",
   "metadata": {},
   "source": [
    "*blok kode program di dalam python didefinisikan dengan indentasi* \n",
    "\n",
    "Contoh sebuah fungsi sederhana dengan nama halo_dunia():"
   ]
  },
  {
   "cell_type": "code",
   "execution_count": 2,
   "id": "9857a2fc-fe7b-49ad-a6e2-8076a24b8ec1",
   "metadata": {},
   "outputs": [],
   "source": [
    "def halo_dunia():\n",
    "  print('Halo python! Halo dunia!')"
   ]
  },
  {
   "cell_type": "markdown",
   "id": "9f8965c6-5bf6-4928-b7e2-8e5771ab7d83",
   "metadata": {},
   "source": [
    "Fungsi di atas, jika dipanggil, akan mengeksekusi perintah `print()` yang ada di dalamnya. Bagaimana cara memanggil fungsi yang telah kita definisikan?\n",
    "Sederhana.\n",
    "Cukup ketik nama fungsinya, ditambah dengan tanda kurung `()` seperti berikut:\n"
   ]
  },
  {
   "cell_type": "code",
   "execution_count": 4,
   "id": "d2b8bd63-f45a-4734-9001-1f6171ed6f5a",
   "metadata": {},
   "outputs": [
    {
     "name": "stdout",
     "output_type": "stream",
     "text": [
      "Halo python! Halo dunia!\n"
     ]
    }
   ],
   "source": [
    "halo_dunia()"
   ]
  },
  {
   "cell_type": "markdown",
   "id": "c1181cae-e7f8-471d-949d-b156fafe95a9",
   "metadata": {},
   "source": [
    "## 1. Fungsi dengan Argumen atau Parameter\n"
   ]
  },
  {
   "cell_type": "markdown",
   "id": "269ac852-89a4-44f5-9d36-acbe626e2580",
   "metadata": {},
   "source": [
    "Sebuah fungsi juga bisa menerima parameter atau pun argumen. Ia merupakan suatu nilai/variabel yang dilemparkan ke dalam fungsi untuk diproses lebih lanjut. Sebagai contoh, perhatikan output berikut:\n",
    "\n",
    "> Halo Nurul, selamat datang!\n",
    "\n",
    "> Halo Lendis, selamat datang!\n",
    "\n",
    "> Halo Fabri, selamat datang!\n",
    "\n",
    "> Halo Isa, selamat datang!"
   ]
  },
  {
   "cell_type": "markdown",
   "id": "0b75ca27-e62b-49a1-951a-ea40108bc9f8",
   "metadata": {},
   "source": [
    "Lalu, bagaimana cara kita memproduksi output seperti itu dengan python?\n",
    "Ada banyak cara. Bisa dengan list, perulangan, dan lain sebagainya.\n",
    "Akan tetapi, dari pada kita melakukan 4x print seperti di atas, kita bisa memanfaatkan fungsi dan parameter pada python.\n"
   ]
  },
  {
   "cell_type": "code",
   "execution_count": 6,
   "id": "33f3e692-cfbf-44c3-908a-6267730d0d78",
   "metadata": {},
   "outputs": [
    {
     "name": "stdout",
     "output_type": "stream",
     "text": [
      "Halo Nurul, selamat datang!\n",
      "Halo Lendis, selamat datang!\n",
      "Halo Fabri, selamat datang!\n",
      "Halo isa, selamat datang!\n"
     ]
    }
   ],
   "source": [
    "def selamat_datang (nama):\n",
    "  print(f'Halo {nama}, selamat datang!')\n",
    "\n",
    "selamat_datang('Nurul')\n",
    "selamat_datang('Lendis')\n",
    "selamat_datang('Fabri')\n",
    "selamat_datang('isa')"
   ]
  },
  {
   "cell_type": "markdown",
   "id": "3e1754fb-0655-41a5-94fc-bc7f9527c296",
   "metadata": {},
   "source": [
    "## 2. Parameter Wajib\n",
    "Parameter di dalam python bisa lebih dari satu, bisa wajib semua (harus diisi), dan bisa juga bersifat opsional. Perhatikan contoh fungsi berikut:"
   ]
  },
  {
   "cell_type": "code",
   "execution_count": 11,
   "id": "1f611661-c405-4600-99dd-1ad84f225b37",
   "metadata": {},
   "outputs": [],
   "source": [
    "def perkenalan (nama, asal):\n",
    "  print(f\"Perkenalkan saya {nama} dari {asal}\")"
   ]
  },
  {
   "cell_type": "code",
   "execution_count": 12,
   "id": "92ea9774-24c2-429d-8c3b-738189d00c78",
   "metadata": {},
   "outputs": [
    {
     "name": "stdout",
     "output_type": "stream",
     "text": [
      "Perkenalkan saya Renza Ilhami dari Jawa Timur\n"
     ]
    }
   ],
   "source": [
    "perkenalan(\"Renza Ilhami\", \"Jawa Timur\")"
   ]
  },
  {
   "cell_type": "markdown",
   "id": "2c84ec1b-c6ad-4d9c-b639-e21b60e1a00b",
   "metadata": {},
   "source": [
    "Tapi jika kita memanggilnya dengan parameter tidak lengkap, justru kita akan mendapatkan error:"
   ]
  },
  {
   "cell_type": "code",
   "execution_count": 13,
   "id": "b081d987-35bb-40ce-92da-9edf178ca8fd",
   "metadata": {},
   "outputs": [
    {
     "ename": "TypeError",
     "evalue": "perkenalan() missing 1 required positional argument: 'asal'",
     "output_type": "error",
     "traceback": [
      "\u001b[0;31m---------------------------------------------------------------------------\u001b[0m",
      "\u001b[0;31mTypeError\u001b[0m                                 Traceback (most recent call last)",
      "\u001b[0;32m/tmp/ipykernel_21967/1715668820.py\u001b[0m in \u001b[0;36m<module>\u001b[0;34m\u001b[0m\n\u001b[0;32m----> 1\u001b[0;31m \u001b[0mperkenalan\u001b[0m\u001b[0;34m(\u001b[0m\u001b[0;34m\"Renza Ilhami\"\u001b[0m\u001b[0;34m)\u001b[0m\u001b[0;34m\u001b[0m\u001b[0;34m\u001b[0m\u001b[0m\n\u001b[0m",
      "\u001b[0;31mTypeError\u001b[0m: perkenalan() missing 1 required positional argument: 'asal'"
     ]
    }
   ],
   "source": [
    "perkenalan(\"Renza Ilhami\")"
   ]
  },
  {
   "cell_type": "markdown",
   "id": "846972ab-92e9-49a2-b876-be9f24f28362",
   "metadata": {},
   "source": [
    "## 3. Parameter Opsional (atau Default)\n",
    "Tidak semua parameter fungsi pada python itu bersifat wajib. Ada yang opsional. Parameter opsional adalah parameter yang seandainya tidak diisi, dia sudah memiliki nilai default. Perhatikan contoh berikut:"
   ]
  },
  {
   "cell_type": "code",
   "execution_count": 14,
   "id": "9f34ac15-efec-4ddb-8722-1f4357803e05",
   "metadata": {},
   "outputs": [],
   "source": [
    "def suhu_udara (daerah, derajat, satuan = 'celcius'):\n",
    "  print(f\"Suhu di {daerah} adalah {derajat} {satuan}\")"
   ]
  },
  {
   "cell_type": "markdown",
   "id": "38f85f63-7711-45a7-92d5-863ddf1ce87c",
   "metadata": {},
   "source": [
    "Dua parameter pertama adalah bersifat wajib dan harus diisi, sedangkan parameter ketiga tidak wajib. Jika tidak kita isi, maka nilai default-nya adalah “celcius”.\n",
    "\n",
    "Sekarang, kita coba panggil fungsi tersebut dengan 2 cara:"
   ]
  },
  {
   "cell_type": "code",
   "execution_count": 15,
   "id": "fcd3d46a-23b5-4b1c-852f-0ead392f9981",
   "metadata": {},
   "outputs": [
    {
     "name": "stdout",
     "output_type": "stream",
     "text": [
      "Suhu di Surabaya adalah 30 celcius\n",
      "Suhu di Surabaya adalah 86 Fahrenheit\n"
     ]
    }
   ],
   "source": [
    "suhu_udara(\"Surabaya\", 30)\n",
    "suhu_udara(\"Surabaya\", 86, 'Fahrenheit')"
   ]
  },
  {
   "cell_type": "markdown",
   "id": "cd26fcac-5162-4acd-8e90-e46252383b19",
   "metadata": {},
   "source": [
    "## 4. Fungsi Dengan Parameter Tidak Berurut\n",
    "Jika kita perhatikan lagi fungsi `suhu_udara()`, kita akan dapati kalau parameter yang bersifat opsional hanya ada 1, dan hanya ada di belakang.\n",
    "Tapi, bagaimana jika ternyata parameter opsionalnya ada lebih dari 1?\n",
    "Coba perhatikan:"
   ]
  },
  {
   "cell_type": "code",
   "execution_count": 16,
   "id": "75b24542-22a5-42d0-bc63-98aa872f1a4e",
   "metadata": {},
   "outputs": [],
   "source": [
    "def suhu_udara (daerah, derajat = 30, satuan = 'celcius'):\n",
    "  print(f\"Suhu di {daerah} adalah {derajat} {satuan}\")"
   ]
  },
  {
   "cell_type": "markdown",
   "id": "ecf81be1-bb88-425a-9d95-4d9ef2659a4f",
   "metadata": {},
   "source": [
    "Pada fungsi tersebut, kita telah mengatur nilai default untuk parameter derajat. Sehingga sekarang kita memiliki dua buah parameter.\n",
    "\n",
    "Kita coba panggil dengan 2 parameter seperti ini:"
   ]
  },
  {
   "cell_type": "code",
   "execution_count": 17,
   "id": "42d02a65-33a6-4f85-bae9-d1d3e865c520",
   "metadata": {},
   "outputs": [
    {
     "name": "stdout",
     "output_type": "stream",
     "text": [
      "Suhu di Jakarta adalah fahrenheit celcius\n"
     ]
    }
   ],
   "source": [
    "suhu_udara('Jakarta', 'fahrenheit')\n"
   ]
  },
  {
   "cell_type": "markdown",
   "id": "aa4124db-1adc-4697-adab-a399cc0b8a95",
   "metadata": {},
   "source": [
    "Kenapa demikian?\n",
    "Padahal kita inginnya hanya mengisi 2 parameter saja:\n",
    "\n",
    "Satu untuk parameter daerah\n",
    "Dan yang kedua untuk parameter satuan\n",
    "Tapi di sini malah terisi adalah parameter derajat.\n",
    "\n",
    "Untuk mengatasi hal ini, kita bisa mendefinisikan nama argumen/parameter yang akan kita isi."
   ]
  },
  {
   "cell_type": "code",
   "execution_count": 19,
   "id": "7f415af0-cadc-4792-964e-a107db969143",
   "metadata": {},
   "outputs": [
    {
     "name": "stdout",
     "output_type": "stream",
     "text": [
      "Suhu di Jakarta adalah fahrenheit celcius\n",
      "Suhu di Jakarta adalah 30 fahrenheit\n"
     ]
    }
   ],
   "source": [
    "suhu_udara('Jakarta', 'fahrenheit')\n",
    "suhu_udara('Jakarta', satuan = 'fahrenheit')"
   ]
  },
  {
   "cell_type": "markdown",
   "id": "ca729770-b3ec-4339-97a1-ce4bcfdf2611",
   "metadata": {},
   "source": [
    "Dengan mendefinisikan nama argumen yang kita passing, kita sekarang bisa memanggilnya bahkan secara tidak berurutan sekalipun:"
   ]
  },
  {
   "cell_type": "code",
   "execution_count": 20,
   "id": "1a4b3f35-2510-4158-87d4-d90140fcfcaa",
   "metadata": {},
   "outputs": [
    {
     "name": "stdout",
     "output_type": "stream",
     "text": [
      "Suhu di Makasar adalah 100 kelvin\n"
     ]
    }
   ],
   "source": [
    "suhu_udara(satuan='kelvin', daerah='Makasar', derajat=100)"
   ]
  },
  {
   "cell_type": "markdown",
   "id": "752a72cf-1012-4a0a-a982-bf4fb4000373",
   "metadata": {},
   "source": [
    "## Ruang Lingkup (dan Siklus Hidup) Variabel Pada Fungsi\n",
    "Variabel memiliki ruang lingkup dan siklus hidup.\n",
    "Secara umum, terdapat dua ruang lingkup variabel pada python:\n",
    "\n",
    "Variabel global\n",
    "Dan variabel lokal\n",
    "Variable global adalah variabel yang bisa dipanggil dari manapun dari satu file python.\n",
    "\n",
    "Sedangkan variable lokal adalah variabel yang hanya hidup di dalam satu blok kode tertentu (seperti di dalam fungsi, seperti kasus kita pada pertemuan ini).\n",
    "\n",
    "Perhatikan contoh berikut:"
   ]
  },
  {
   "cell_type": "code",
   "execution_count": 21,
   "id": "2f23fd2a-1cd9-48ca-85c1-d6fa6093e810",
   "metadata": {},
   "outputs": [
    {
     "name": "stdout",
     "output_type": "stream",
     "text": [
      "[print secara langsung] Lamongan\n",
      "[panggil fungsi halo] Lamongan\n"
     ]
    }
   ],
   "source": [
    "kota = 'Lamongan'\n",
    "\n",
    "def halo() :\n",
    "  print(kota)\n",
    "\n",
    "print('[print secara langsung]', kota)\n",
    "print('[panggil fungsi halo]', end=' ')\n",
    "\n",
    "halo()"
   ]
  },
  {
   "cell_type": "markdown",
   "id": "7b3c69f7-109c-4a77-834c-ef9c739496a3",
   "metadata": {},
   "source": [
    "Pada kode di atas, variabel kota yang ada di dalam fungsi, adalah variabel kota yang sama dengan yang ada di luar fungsi.\n",
    "\n",
    "Tapi, coba kita ubah kode programnya:"
   ]
  },
  {
   "cell_type": "code",
   "execution_count": 22,
   "id": "09554f80-0755-438e-89fc-5f1ab5d81648",
   "metadata": {},
   "outputs": [
    {
     "name": "stdout",
     "output_type": "stream",
     "text": [
      "[PANGGIL FUNGSI hello()]\n",
      "Lamongan Jawa Barat\n",
      "\n",
      "[SECARA LANGSUNG]\n",
      "Lamongan Jawa Timur\n"
     ]
    }
   ],
   "source": [
    "kota, provinsi = 'Lamongan', 'Jawa Timur'\n",
    "\n",
    "def hello ():\n",
    "  provinsi = 'Jawa Barat'\n",
    "  print(kota, provinsi)\n",
    "\n",
    "print('[PANGGIL FUNGSI hello()]')\n",
    "hello()\n",
    "\n",
    "print('\\n[SECARA LANGSUNG]')\n",
    "print(kota, provinsi)"
   ]
  },
  {
   "cell_type": "markdown",
   "id": "af76558f-abcc-41c8-a846-afe9187e88da",
   "metadata": {},
   "source": [
    "\n",
    "1. Kita membuat 2 buah variabel dengan nama `kota` dan `provinsi`\n",
    "2. Kita mengubah variabel `provinsi` pada fungsi `hello()`\n",
    "3. Saat fungsi `hello()` dieksekusi, benar saja variabel `provinsi` berubah.\n",
    "4. Tapi, ketika kita tampilkan lagi (secara langsung) variabel `provinsi`, nilainya kembali ke nilai semula.\n",
    "\n",
    "Kenapa?\n",
    "\n",
    "Karena ketika kita mengubah variabel `provinsi` pada fungsi `hello()`, itu sebenarnya kita tidak merubah variabel provinsi yang ada di luar, melainkan kita membuat variabel baru dengan nama yang sama, akan tetapi dengan ruang lingkup lokal yang hanya bisa diakses pada fungsi `hello()` saja.\n",
    "\n"
   ]
  },
  {
   "cell_type": "code",
   "execution_count": null,
   "id": "a66bce9e-43dc-4859-bda0-04d41e471b22",
   "metadata": {},
   "outputs": [],
   "source": []
  }
 ],
 "metadata": {
  "kernelspec": {
   "display_name": "Python 3 (ipykernel)",
   "language": "python",
   "name": "python3"
  },
  "language_info": {
   "codemirror_mode": {
    "name": "ipython",
    "version": 3
   },
   "file_extension": ".py",
   "mimetype": "text/x-python",
   "name": "python",
   "nbconvert_exporter": "python",
   "pygments_lexer": "ipython3",
   "version": "3.9.7"
  }
 },
 "nbformat": 4,
 "nbformat_minor": 5
}
