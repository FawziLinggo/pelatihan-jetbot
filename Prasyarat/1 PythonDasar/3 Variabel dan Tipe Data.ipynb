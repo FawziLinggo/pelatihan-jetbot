{
 "cells": [
  {
   "cell_type": "markdown",
   "id": "67462476-4805-4f67-8748-cee1452279cf",
   "metadata": {},
   "source": [
    "# Intro\n",
    "Hampir di setiap program `Python` akan menggunakan variable. Variable dapat diibaratkan sebuah ember yang digunakan untuk menampung data. Variable dalam `Python` dapat menampun bermacam-macam data. Data yang ditampung dapat berupa `string`, `integer`, `float`, `boolean`, `array`, `function`, dan mungkin masih banyak lagi.\n",
    "\n",
    "Variable membantu program dapat lebih dinamis dan dapat membantu programmer mereferensikan sebuah nilai yang panjang di dalam sebuah wadah, ketimbang harus mengetik nilai yang panjang berulang kali.\n",
    "\n",
    "Variable dapat dibuat dengan nama apapun kecuali nama yang sama dengan nama sintaks dan function pada 'Python'. Hal ini dapat menyebabkan sebuah konflik. Variable juga tidak dapat ditulis dengan awalan angka dan simbol, kecuali simbol '_' (baca: underscore).\n",
    "\n",
    "Sebagai contoh, kamu tidak dapat memberikan nama sebuah variable dengan nama 'print' karena akan terjadi konflik dengan 'print()' function."
   ]
  },
  {
   "cell_type": "code",
   "execution_count": 1,
   "id": "467d246b-9bab-4d63-860f-c5ef5207daa0",
   "metadata": {},
   "outputs": [
    {
     "name": "stdout",
     "output_type": "stream",
     "text": [
      "Ini tidak dapat dilakukan !\n"
     ]
    }
   ],
   "source": [
    "print = print('Ini tidak dapat dilakukan !')"
   ]
  },
  {
   "cell_type": "markdown",
   "id": "ba4d4079-7f40-4c72-aeda-1ed2b1e98538",
   "metadata": {},
   "source": [
    "Apabila ini dilakukan, maka hasil dari `print('Ini tidak dapat dilakukan !')` tetap akan tampil pada console. Namun, saat kita akan memanggil atau menggunakan variable yang bernama `print` akan terjadi kegagalan."
   ]
  },
  {
   "cell_type": "code",
   "execution_count": 2,
   "id": "8b5d4c2f-b4e4-4b2a-8302-bc5bc00fd978",
   "metadata": {},
   "outputs": [
    {
     "ename": "TypeError",
     "evalue": "'NoneType' object is not callable",
     "output_type": "error",
     "traceback": [
      "\u001b[0;31m---------------------------------------------------------------------------\u001b[0m",
      "\u001b[0;31mTypeError\u001b[0m                                 Traceback (most recent call last)",
      "\u001b[0;32m/tmp/ipykernel_6762/4045386643.py\u001b[0m in \u001b[0;36m<module>\u001b[0;34m\u001b[0m\n\u001b[0;32m----> 1\u001b[0;31m \u001b[0mprint\u001b[0m\u001b[0;34m(\u001b[0m\u001b[0mprint\u001b[0m\u001b[0;34m)\u001b[0m\u001b[0;34m\u001b[0m\u001b[0;34m\u001b[0m\u001b[0m\n\u001b[0m",
      "\u001b[0;31mTypeError\u001b[0m: 'NoneType' object is not callable"
     ]
    }
   ],
   "source": [
    "print(print)"
   ]
  },
  {
   "cell_type": "markdown",
   "id": "b30aadd0-a20f-4b18-a2a6-f5a4d40af2f2",
   "metadata": {},
   "source": [
    "# Variable dengan 1 Nilai\n",
    "# String\n",
    "Nah sekarang yang benernya. Kita sudah mempelajari print() function pada materi pertama. Sekarang, Yuk! Kita coba kombinasikan print() function dengan variable."
   ]
  },
  {
   "cell_type": "code",
   "execution_count": 1,
   "id": "43236932-756f-414a-9533-497f1c86154a",
   "metadata": {},
   "outputs": [
    {
     "name": "stdout",
     "output_type": "stream",
     "text": [
      "Devika\n"
     ]
    }
   ],
   "source": [
    "namaDepan = 'Devika'\n",
    "print(namaDepan)"
   ]
  },
  {
   "cell_type": "code",
   "execution_count": 2,
   "id": "bdab3502-edf4-444b-99c9-d17c5eeb5666",
   "metadata": {},
   "outputs": [
    {
     "ename": "SyntaxError",
     "evalue": "invalid syntax (974829603.py, line 1)",
     "output_type": "error",
     "traceback": [
      "\u001b[0;36m  File \u001b[0;32m\"/tmp/ipykernel_6862/974829603.py\"\u001b[0;36m, line \u001b[0;32m1\u001b[0m\n\u001b[0;31m    namaLengkap = Devika Marina\u001b[0m\n\u001b[0m                         ^\u001b[0m\n\u001b[0;31mSyntaxError\u001b[0m\u001b[0;31m:\u001b[0m invalid syntax\n"
     ]
    }
   ],
   "source": [
    "namaLengkap = Devika Marina"
   ]
  },
  {
   "cell_type": "markdown",
   "id": "41109c7f-ef95-48d1-85c9-00dfe6eedefa",
   "metadata": {},
   "source": [
    "`Devika Marina` bukan merupakan tipe data yang tepat. Apabila kamu bermaksud membuat `Devika Marina` menjadi sebuah string, maka kamu harus menuliskannya dengan mengawali dan mengakhiri dengan tanda petik `('...'` atau `\"...\")`."
   ]
  },
  {
   "cell_type": "code",
   "execution_count": 4,
   "id": "e06d46b0-667d-4fb6-85fa-ccc1f5468bda",
   "metadata": {},
   "outputs": [
    {
     "name": "stdout",
     "output_type": "stream",
     "text": [
      "Devika Marina\n"
     ]
    }
   ],
   "source": [
    "namaLengkap = 'Devika Marina'\n",
    "print(namaLengkap)"
   ]
  },
  {
   "cell_type": "markdown",
   "id": "5eae3e2e-c05a-495c-b7a8-66ca764fc32b",
   "metadata": {},
   "source": [
    "Atau, kamu dapat menerapkan concatenation yang sudah kita pelajari pada materi pertama."
   ]
  },
  {
   "cell_type": "code",
   "execution_count": 5,
   "id": "bc2e9800-7f4d-460b-bf6e-29d8ebab0c45",
   "metadata": {},
   "outputs": [
    {
     "name": "stdout",
     "output_type": "stream",
     "text": [
      "Nama Lengkap : Devika Marina\n",
      "Umur         : 18\n"
     ]
    }
   ],
   "source": [
    "namaLengkap = 'Devika Marina'   # string\n",
    "umur        = '18'              # string\n",
    "print('Nama Lengkap :',namaLengkap)\n",
    "print('Umur         :',umur)"
   ]
  },
  {
   "cell_type": "markdown",
   "id": "05d7d0ea-820e-4498-b34e-c6e30c4bc627",
   "metadata": {},
   "source": [
    "## Integer atau Float\n",
    "Selain bernilai string, variable juga dapat bernilai integer maupun float."
   ]
  },
  {
   "cell_type": "code",
   "execution_count": 6,
   "id": "2620b0f9-c324-4642-becb-4554b313aced",
   "metadata": {},
   "outputs": [
    {
     "name": "stdout",
     "output_type": "stream",
     "text": [
      "Banyak Roda     :  10\n",
      "Kapasitas Solar :  100.0\n"
     ]
    }
   ],
   "source": [
    "jmlhRoda   = 10         # integer\n",
    "jmlhSolar  = 100.0      # float\n",
    "\n",
    "print('Banyak Roda     : ',jmlhRoda)\n",
    "print('Kapasitas Solar : ',jmlhSolar)"
   ]
  },
  {
   "cell_type": "markdown",
   "id": "5232b6cf-4ada-42f1-afe3-e2e3ff1add6a",
   "metadata": {},
   "source": [
    "## Boolean\n",
    "Variable dapat pula bertipe data boolean, yaitu True atau False. Penulisan nilai boolean harus di awali dengan huruf besar."
   ]
  },
  {
   "cell_type": "code",
   "execution_count": 8,
   "id": "6db210ee-3001-4454-b456-c864547f904a",
   "metadata": {},
   "outputs": [
    {
     "data": {
      "text/plain": [
       "True"
      ]
     },
     "execution_count": 8,
     "metadata": {},
     "output_type": "execute_result"
    }
   ],
   "source": [
    "sudahMenikah = True     # boolean\n",
    "sudahMenikah"
   ]
  },
  {
   "cell_type": "code",
   "execution_count": 9,
   "id": "1b612b5f-f2c6-49f3-83e7-5ebb57c2ea45",
   "metadata": {},
   "outputs": [
    {
     "data": {
      "text/plain": [
       "False"
      ]
     },
     "execution_count": 9,
     "metadata": {},
     "output_type": "execute_result"
    }
   ],
   "source": [
    "jomblo       = False    # boolean\n",
    "jomblo"
   ]
  },
  {
   "cell_type": "markdown",
   "id": "f8e4cec0-5fa2-4fbf-8d7d-4e89083c2cc1",
   "metadata": {},
   "source": [
    "# Variable dengan Banyak Nilai\n",
    "## Tuples\n",
    "`Tuple` adalah variable yang berisi / bernilai bermacam-macam data / tipe data yang dipisahkan oleh tanda koma `,` yang membuatnya mirip dengan `list` (list, dalam bahasa pemrograman lain disebut array). Namun, yang menjadikan tuple berbeda dengan list adalah tuple memiliki sifat `immutable` yang artinya kekal atau tidak dapat diubah-ubah."
   ]
  },
  {
   "cell_type": "code",
   "execution_count": 11,
   "id": "9f13e252-8537-44c4-922a-f840d7013ef1",
   "metadata": {},
   "outputs": [
    {
     "name": "stdout",
     "output_type": "stream",
     "text": [
      "Keyboard\n",
      "Mouse Monitor\n"
     ]
    }
   ],
   "source": [
    "perangkatKeras = 'Keyboard', 'Mouse', 'Monitor'\n",
    "\n",
    "print(perangkatKeras[0])\n",
    "print(perangkatKeras[1], perangkatKeras[2])"
   ]
  },
  {
   "cell_type": "markdown",
   "id": "44cbcdd5-8b31-41f1-a824-929d21270d4e",
   "metadata": {},
   "source": [
    "Pada contoh di atas, menggunakan contoh pemanggilan isi dari variable tuple dengan menggunakan urutan dari indeksnya. `[0]` dibaca indeks ke nol.\n",
    "\n",
    "Indeks pada bahasa pemrograman Python dimulai dari 0, selanjutnya diikuti 1, 2, 3, 4, 5, dst…\n",
    "\n"
   ]
  },
  {
   "cell_type": "code",
   "execution_count": 12,
   "id": "f9aa339b-6a08-440a-8d7f-13921da92a51",
   "metadata": {},
   "outputs": [
    {
     "name": "stdout",
     "output_type": "stream",
     "text": [
      "Kijang Avanza Innova\n",
      "Avanza\n"
     ]
    }
   ],
   "source": [
    "mobil1, mobil2, mobil3 = 'Kijang', 'Avanza', 'Innova'\n",
    "\n",
    "print(mobil1, mobil2, mobil3)\n",
    "print(mobil2)"
   ]
  },
  {
   "cell_type": "code",
   "execution_count": 13,
   "id": "a32f9fd2-9aee-4f46-8992-58865085fa93",
   "metadata": {},
   "outputs": [
    {
     "name": "stdout",
     "output_type": "stream",
     "text": [
      "120\n",
      "120 90 45\n"
     ]
    }
   ],
   "source": [
    "x, y, z = 120, 90, 45\n",
    "\n",
    "print(x)\n",
    "print(x, y, z)"
   ]
  },
  {
   "cell_type": "code",
   "execution_count": 14,
   "id": "eb271d8a-c1b1-4284-9f4a-cfda05c0bd81",
   "metadata": {},
   "outputs": [
    {
     "name": "stdout",
     "output_type": "stream",
     "text": [
      "[15, 11, 10, 9, 1, 6, 5, 7, 8, 22, 4]\n",
      "22\n"
     ]
    }
   ],
   "source": [
    "timInti = [15, 11, 10, 9, 1, 6, 5, 7, 8, 22, 4]\n",
    "\n",
    "print(timInti)\n",
    "print(timInti[9])"
   ]
  },
  {
   "cell_type": "markdown",
   "id": "9f387d2b-78bc-4526-bdce-b5500e74dbe8",
   "metadata": {},
   "source": [
    "Kamu dapat menuliskan sebuah variable tuple dengan mengawali dengan tanda kurung `(` dan menutupnya dengan `)`.\n",
    "\n",
    "Seperti ini `(..., ..., ...)`. Namun, tidak menggunakan tanda kurung `(...)` juga tidak masalah. Seperti ini `..., ..., ...`\n",
    "\n",
    "Sehingga secara default, apabila kamu mendeklarasikan sebuah variable yang memiliki banyak nilai dan dipisahkan dengan tanda koma, maka Python akan mengenalinya sebagai variable dengan tipe data tuple."
   ]
  },
  {
   "cell_type": "markdown",
   "id": "5365a4bf-3b3e-42f5-8bcd-c775fbc68d42",
   "metadata": {},
   "source": [
    "## Python Lists"
   ]
  },
  {
   "cell_type": "markdown",
   "id": "408530c8-22ad-4e8e-8f7d-ddea10c1132e",
   "metadata": {},
   "source": [
    "Selanjutnya kita memiliki variable yang lebih populer dibandingkan tuple, yaitu `Python list`.\n",
    "\n",
    "`Lists` adalah variable struktur data yang berisi / bernilai bermacam-macam data / tipe data yang dipisahkan dengan tanda koma `,` yang membuatnya mirip dengan `tuple`. Namun, yang membedakannya denga tuple adalah kita mendeklarasikan sebuah variable bertipe data list dengan mengapit data tersebut menggunakan tanda kurung kotak `[..., ..., ...]`."
   ]
  },
  {
   "cell_type": "code",
   "execution_count": 16,
   "id": "90236410-3f02-46cc-bf7c-96397cbe5a68",
   "metadata": {},
   "outputs": [
    {
     "name": "stdout",
     "output_type": "stream",
     "text": [
      "Anggota Tim Inti :  [15, 11, 10, 9, 1, 6, 5, 7, 8, 22, 4]\n",
      "Penjaga Gawang   :  1\n"
     ]
    }
   ],
   "source": [
    "timInti = [15, 11, 10, 9, 1, 6, 5, 7, 8, 22, 4]\n",
    "\n",
    "print('Anggota Tim Inti : ',timInti)\n",
    "print('Penjaga Gawang   : ',timInti[4])"
   ]
  },
  {
   "cell_type": "markdown",
   "id": "62f0c225-caad-4463-8cdd-250cc2257653",
   "metadata": {},
   "source": [
    "`Python list` ini `tidak bersifat immutable` sehingga memungkinkan kita untuk dapat memodifikasinya, seperti: append, extend, insert, count, remove, reverse, sort, dll.\n",
    "\n",
    "Nanti akan ada pembahasan tersendiri untuk modifikasi Python list."
   ]
  },
  {
   "cell_type": "markdown",
   "id": "f98d576b-2c39-430d-8f2f-c81523acde78",
   "metadata": {},
   "source": [
    "## Dictionary\n",
    "`Python Dictionary` adalah sebuah variable struktur data yang hampir mirip dengan array. Dictionary kalo diartikan secara bahasa akan bermakna kamus. Ya! Persis selayaknya kamus, yang isinya terdapat kata kunci dan setiap kata kunci memiliki arti yang dapat lebih dari satu arti.\n",
    "\n",
    "Dictionary tidak diurutkan berdasarkan sesuatu. Karakteristik yang khas dari Python dictionary adalah memiliki kunci dan nilai (`kunci:nilai`). Setiap kunci berbentuk unik dan hanya satu. Sedangkan nilainya dapat mengandung lebih dari satu data / tipe data, baik dalam bentuk tipe data apapun seperti: string, integer, float, tuple, list, bahkan dictionary juga.\n",
    "\n",
    "Untuk mendeklarasikan sebuah variable dengan tipe struktur data dictionary, kita perlu mengawalinya dengan menggunakan tanda kurung kurawal`{` dan menutupnya dengan `}`."
   ]
  },
  {
   "cell_type": "code",
   "execution_count": 18,
   "id": "e8787f37-fc92-4120-b154-83f9b18b4e5d",
   "metadata": {},
   "outputs": [
    {
     "name": "stdout",
     "output_type": "stream",
     "text": [
      "{'Cebe': 10, 'Bly': 11, 'Davy': 4, 'Haris': 9}\n"
     ]
    }
   ],
   "source": [
    "nomorPunggung = {'Cebe':10, 'Bly':11, 'Davy':4, 'Haris':9}\n",
    "\n",
    "print(nomorPunggung)"
   ]
  },
  {
   "cell_type": "markdown",
   "id": "78f2a0e7-0730-410d-bf42-4f181b26523d",
   "metadata": {},
   "source": [
    "Apabila kita ingin mengetahui berapakah nomor punggung dari Davy, maka kita cukup memanggil kuncinya saja."
   ]
  },
  {
   "cell_type": "code",
   "execution_count": 19,
   "id": "1727f932-d054-4cfd-9b71-02200fcdd197",
   "metadata": {},
   "outputs": [
    {
     "name": "stdout",
     "output_type": "stream",
     "text": [
      "4\n",
      "Berapakah nomor punggung Davy ? 4\n"
     ]
    }
   ],
   "source": [
    "print(nomorPunggung['Davy'])\n",
    "\n",
    "print('Berapakah nomor punggung Davy ?',nomorPunggung['Davy'])"
   ]
  },
  {
   "cell_type": "markdown",
   "id": "16111af8-de73-44fb-a5a6-256ef89b575a",
   "metadata": {},
   "source": [
    "Perlu diperhatikan, pemanggilan kunci berupa string, haruslah sama persis dengan kunci yang sudah di deklarasikan di dalam variable dictionary. Namanya saja kunci, kalo kuncinya tidak sama, maka pintu tidak akan dapat dibuka.\n",
    "\n",
    "Selain kunci yang berbentuk string, kunci dapat pula berupa integer."
   ]
  },
  {
   "cell_type": "code",
   "execution_count": 4,
   "id": "f2b90de4-a4b8-405c-926c-741e8fe7e886",
   "metadata": {},
   "outputs": [
    {
     "name": "stdout",
     "output_type": "stream",
     "text": [
      "Wisnu\n",
      "Pemenang Kejuaraan Lari : Wisnu\n"
     ]
    }
   ],
   "source": [
    "juaraLomba = {1:'Irvan', 2:'Ichsan', 3:'Wisnu', 4:'Gigon', 5:'Dika'}\n",
    "\n",
    "print(juaraLomba[3])\n",
    "print(\"Pemenang Kejuaraan Lari :\", juaraLomba[3])"
   ]
  },
  {
   "cell_type": "code",
   "execution_count": 5,
   "id": "9186b63c-69f2-4ba8-86d5-93ecf7198b7d",
   "metadata": {},
   "outputs": [
    {
     "name": "stdout",
     "output_type": "stream",
     "text": [
      "[172, 'Putih']\n",
      "168\n"
     ]
    }
   ],
   "source": [
    "identitas = {'Irvan':[172,'Putih'], 'Ichsan':[170,'Cokelat'], 'Wisnu':[168,'Kuning']}\n",
    "\n",
    "print(identitas['Irvan'])\n",
    "print(identitas['Wisnu'][0])"
   ]
  },
  {
   "cell_type": "markdown",
   "id": "128991ea-3656-48f8-b646-5e5d14fa3af7",
   "metadata": {},
   "source": [
    "# Variable yang Mengandung Proses\n",
    "Variable tidak melulu mengandung nilai-nilai. Variable juga dapat kita manfaatkan untuk menyimpan proses."
   ]
  },
  {
   "cell_type": "code",
   "execution_count": 6,
   "id": "ea35a93c-bdea-4e75-8663-97933d4a94af",
   "metadata": {},
   "outputs": [
    {
     "name": "stdout",
     "output_type": "stream",
     "text": [
      "70\n",
      "18.8\n",
      "73.5\n"
     ]
    }
   ],
   "source": [
    "penjumlahan = 25 + 45        # int + int\n",
    "pengurangan = 32.6 - 13.8    # float - float\n",
    "perkalian   = 21 * 3.5       # int * float\n",
    "\n",
    "print(penjumlahan)\n",
    "print(pengurangan)\n",
    "print(perkalian)"
   ]
  },
  {
   "cell_type": "code",
   "execution_count": null,
   "id": "9640963a-2587-4147-8108-903054f24512",
   "metadata": {},
   "outputs": [],
   "source": []
  }
 ],
 "metadata": {
  "kernelspec": {
   "display_name": "Python 3 (ipykernel)",
   "language": "python",
   "name": "python3"
  },
  "language_info": {
   "codemirror_mode": {
    "name": "ipython",
    "version": 3
   },
   "file_extension": ".py",
   "mimetype": "text/x-python",
   "name": "python",
   "nbconvert_exporter": "python",
   "pygments_lexer": "ipython3",
   "version": "3.9.7"
  }
 },
 "nbformat": 4,
 "nbformat_minor": 5
}
