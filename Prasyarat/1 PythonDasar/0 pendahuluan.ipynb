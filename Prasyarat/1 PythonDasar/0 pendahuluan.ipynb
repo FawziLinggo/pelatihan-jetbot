{
 "cells": [
  {
   "cell_type": "markdown",
   "id": "8cc2c368-df77-46dc-9e97-4321eefea490",
   "metadata": {},
   "source": [
    "# Pendahuluan\n",
    "\n",
    "`Python` adalah bahasa pemrograman interpretatif multiguna. Tidak seperti bahasa lain yang sulit dibaca dan dipahami, python lebih kepada keterbacaan kode untuk memudahkan pemahaman sintaks. Hal ini membuat `Python` sangat mudah dipelajari baik untuk pemula maupun yang sudah menguasai bahasa pemrograman lain.\n",
    "\n",
    "Bahasa ini pertama kali muncul pada tahun 1991, dirancang oleh seseorang bernama `Guido van Rossum`. Hingga saat ini `Python` masih terus dikembangkan oleh Python Software Foundation. Bahasa `Python` mendukung hampir semua sistem operasi, bahkan untuk sistem operasi `Linux`, hampir semua distro sudah menyertakan Python di dalamnya."
   ]
  },
  {
   "cell_type": "code",
   "execution_count": null,
   "id": "98641aa2-657a-4d1c-867f-548933afda75",
   "metadata": {},
   "outputs": [],
   "source": []
  }
 ],
 "metadata": {
  "kernelspec": {
   "display_name": "Python 3 (ipykernel)",
   "language": "python",
   "name": "python3"
  },
  "language_info": {
   "codemirror_mode": {
    "name": "ipython",
    "version": 3
   },
   "file_extension": ".py",
   "mimetype": "text/x-python",
   "name": "python",
   "nbconvert_exporter": "python",
   "pygments_lexer": "ipython3",
   "version": "3.9.7"
  }
 },
 "nbformat": 4,
 "nbformat_minor": 5
}
