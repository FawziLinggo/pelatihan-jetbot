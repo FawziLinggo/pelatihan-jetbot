{
 "cells": [
  {
   "cell_type": "markdown",
   "id": "812a2480-7d46-4bfa-9a02-02c16d1736a3",
   "metadata": {},
   "source": [
    "# Conditional statement Python\n",
    "\n",
    "dalah aliran yang mengontrol kode program Python berdasarkan pengujian pernyataan bersyarat. Seperti bahasa pemrograman lainnya, conditional statement (pernyataan bersyarat) merupakan salah satu control flow (aliran kontrol) di bahasa pemrograman Python. Pernyataan bersyarat dapat berisi fungsi, operator matematika dan operator logika. Syntax yang digunakan untuk membuat control flow berupa conditional statement di Python adalah `if`, `elif`, dan `else`. "
   ]
  },
  {
   "cell_type": "markdown",
   "id": "b0fa7f97-9a88-4763-b9bb-90f4ecb1eb96",
   "metadata": {},
   "source": [
    "## Syntax if, elif, dan else pada Python\n",
    "Syntax `if`, `elif`, dan `else` merupakan syntax yang digunakan untuk membuat conditional statement di bahasa pemrograman Python."
   ]
  },
  {
   "cell_type": "code",
   "execution_count": null,
   "id": "45cabe44-1276-4003-9bf2-d0e4b2f24798",
   "metadata": {},
   "outputs": [],
   "source": [
    "if   Conditional_expression_1:\n",
    "       command_1\n",
    "elif Conditional_expression_2:\n",
    "       command_2\n",
    "elif Conditional_expression_3:\n",
    "       command_3\n",
    "else:\n",
    "       alternative_command"
   ]
  },
  {
   "cell_type": "markdown",
   "id": "d4c3669a-9b31-437e-add7-96fc576528b4",
   "metadata": {},
   "source": [
    "Berikut sistematika syntax `if`, `elif`, dan `else` pada Python.\n",
    "\n",
    "1. Conditional statement dimulai dari pertama, saat ada pernyataan yang terpenuhi maka perintahnya pernyataan akan dijalankan dan conditional statemen dihentikan\n",
    "\n",
    "2. Conditional expression dimulai dengan syntax if\n",
    "\n",
    "3. Conditional expression adalah pernyataan bersyarat yang diujikan yang dapat berisi operator matematika, fungsi, dan logika.\n",
    "4. Setiap conditional expression diakhiri tanda colon :\n",
    "5. Setiap conditional expression mempunyai kode perintah dalam penulisan indentasi\n",
    "6. Conditional_expression_1 merupakan pernyataan bersyarat pertama dengan perintah command_1\n",
    "7. Conditional expression kedua dan seterusnya dimulai dengan syntax elif\n",
    "8. Conditional_expression_2 merupakan pernyataan bersyarat kedua dengan perintah command_2\n",
    "9. Conditional_expression_3 merupakan pernyataan bersyarat ketiga dengan perintah command_3\n",
    "10. Kondisi alternatif ditulis diakhiri dengan syntax else:\n",
    "11. alternative_command merupakan perintah alternatif, digunakan saat semua kondisi bersyarat tidak terpenuhi"
   ]
  },
  {
   "cell_type": "markdown",
   "id": "23855302-79ec-49a7-85dc-53f51a98e4da",
   "metadata": {},
   "source": [
    "## Contoh Conditional Statement pada Python\n",
    "### Contoh if (Tunggal)\n",
    "Misalnya dibuat program Python yang dapat mengetahui suatu bilangan yang dimasukkan pengguna bernilai nol.\n"
   ]
  },
  {
   "cell_type": "code",
   "execution_count": 2,
   "id": "a170a66d-33a6-44bd-bfb9-b3364fa8c569",
   "metadata": {},
   "outputs": [
    {
     "name": "stdin",
     "output_type": "stream",
     "text": [
      "Masukkan suatu bilangan =  0\n"
     ]
    },
    {
     "name": "stdout",
     "output_type": "stream",
     "text": [
      "Selamat, bilangan yang dimasukkan bernilai 0\n"
     ]
    }
   ],
   "source": [
    "x = float(input(\"Masukkan suatu bilangan = \"));\n",
    "\n",
    "if x == 0:\n",
    "       print (\"Selamat, bilangan yang dimasukkan bernilai 0\");"
   ]
  },
  {
   "cell_type": "markdown",
   "id": "41458230-8d29-4b63-b513-9d9ae886d051",
   "metadata": {},
   "source": [
    "## Contoh if ... elif ... (Beberapa Kondisi Bersyarat)\n",
    "Misalnya dibuat program kuis, mengenai hari kemerdekaan republik Indonesia"
   ]
  },
  {
   "cell_type": "code",
   "execution_count": 3,
   "id": "5d40631a-fdbd-48a3-bce8-aad88a866828",
   "metadata": {},
   "outputs": [
    {
     "name": "stdout",
     "output_type": "stream",
     "text": [
      "Kapan Negara Indonesia Merdeka? \n",
      "\n",
      "A. 1 Juni 1945 \n",
      "\n",
      "B. 18 Agustus 1945 \n",
      "\n",
      "C. 30 September 1965 \n",
      "\n",
      "D. 17 Agustus 1945 \n",
      "\n"
     ]
    },
    {
     "name": "stdin",
     "output_type": "stream",
     "text": [
      "Jawaban =  A\n"
     ]
    },
    {
     "name": "stdout",
     "output_type": "stream",
     "text": [
      "Ops, 1 Juni 1945 adalah hari lahirnya Pancasila\n"
     ]
    }
   ],
   "source": [
    "print(\"Kapan Negara Indonesia Merdeka? \\n\");\n",
    "print(\"A. 1 Juni 1945 \\n\");\n",
    "print(\"B. 18 Agustus 1945 \\n\");\n",
    "print(\"C. 30 September 1965 \\n\");\n",
    "print(\"D. 17 Agustus 1945 \\n\");\n",
    "\n",
    "x = str(input(\"Jawaban = \"))\n",
    "\n",
    "if (x == 'A') or (x == 'a'):\n",
    "     print(\"Ops, 1 Juni 1945 adalah hari lahirnya Pancasila\");\n",
    "elif (x == 'B') or (x == 'b'):\n",
    "     print(\"Ops, 18 Agustus 1945 adalah hari pengesahan UUD 1945\");\n",
    "elif (x == 'C') or (x == 'c'):\n",
    "     print (\"Ops, 30 September 1965 adalah hari G30S/PKI\");\n",
    "elif (x == 'D') or (x == 'd'):\n",
    "     print(\"Selamat Anda benar\");"
   ]
  },
  {
   "cell_type": "markdown",
   "id": "e44b32f9-65d4-424a-b6d5-0694d47ff232",
   "metadata": {},
   "source": [
    "## Contoh if ... elif ... else ... (Kondisi Bersyarat dengan Alternatif)\n",
    "Misalnya dibuat program Python yang dapat mengetahui suatu bilangan yang dimasukkan pengguna bernilai nol, positif, atau negati"
   ]
  },
  {
   "cell_type": "code",
   "execution_count": 4,
   "id": "31bed0ed-c135-441b-8e36-24dbef817f4a",
   "metadata": {},
   "outputs": [
    {
     "name": "stdin",
     "output_type": "stream",
     "text": [
      "input sebuah bilangan =  8\n"
     ]
    },
    {
     "name": "stdout",
     "output_type": "stream",
     "text": [
      "Nilai x adalah Positif\n"
     ]
    }
   ],
   "source": [
    "x = float(input(\"input sebuah bilangan = \"));\n",
    "\n",
    "if x == 0:\n",
    "       print(\"Nilai x adalah Nol\");\n",
    "elif x > 0:\n",
    "       print(\"Nilai x adalah Positif\");\n",
    "else: \n",
    "       print(\"Nilai x adalah Negatif\");"
   ]
  },
  {
   "cell_type": "code",
   "execution_count": null,
   "id": "e13218d3-e099-446e-ac5b-c1faf1da7405",
   "metadata": {},
   "outputs": [],
   "source": []
  }
 ],
 "metadata": {
  "kernelspec": {
   "display_name": "Python 3 (ipykernel)",
   "language": "python",
   "name": "python3"
  },
  "language_info": {
   "codemirror_mode": {
    "name": "ipython",
    "version": 3
   },
   "file_extension": ".py",
   "mimetype": "text/x-python",
   "name": "python",
   "nbconvert_exporter": "python",
   "pygments_lexer": "ipython3",
   "version": "3.9.7"
  }
 },
 "nbformat": 4,
 "nbformat_minor": 5
}
