{
 "cells": [
  {
   "cell_type": "markdown",
   "id": "16193c67-4b39-4851-8449-23e6508b7fbf",
   "metadata": {},
   "source": [
    "# Penjumlahan\n",
    "Kamu dapat melakukan operasi penjumlahan dengan menggunakan operator matematika berupa tanda tambah `+`. Operasi matematika dapat dilakukan dengan menjumlahkan integer dengan integer, float dengan float, maupun integer dengan float."
   ]
  },
  {
   "cell_type": "code",
   "execution_count": 3,
   "id": "14e3af15-afcd-4f11-9bbc-c59cdaf0cdb3",
   "metadata": {},
   "outputs": [
    {
     "data": {
      "text/plain": [
       "4"
      ]
     },
     "execution_count": 3,
     "metadata": {},
     "output_type": "execute_result"
    }
   ],
   "source": [
    "1+3                 # int + int"
   ]
  },
  {
   "cell_type": "code",
   "execution_count": 6,
   "id": "9ba7a34d-29dd-4af4-bf1d-0455557bb640",
   "metadata": {},
   "outputs": [
    {
     "data": {
      "text/plain": [
       "6.300000000000001"
      ]
     },
     "execution_count": 6,
     "metadata": {},
     "output_type": "execute_result"
    }
   ],
   "source": [
    "1+(2.1+3.2)         # int + (float + float)"
   ]
  },
  {
   "cell_type": "code",
   "execution_count": 7,
   "id": "5f0ab385-b728-45ee-affa-ce736f82ffc5",
   "metadata": {},
   "outputs": [
    {
     "data": {
      "text/plain": [
       "3.3"
      ]
     },
     "execution_count": 7,
     "metadata": {},
     "output_type": "execute_result"
    }
   ],
   "source": [
    "1+2.3               # int + float"
   ]
  },
  {
   "cell_type": "markdown",
   "id": "20b5ed84-0220-410a-a424-20f60ddb098b",
   "metadata": {},
   "source": [
    "# Pengurangan\n",
    "Untuk dapat melakukan operasi matematika berupa pengurangan, kamu dapat menggunakan tanda `-`.\n",
    "\n"
   ]
  },
  {
   "cell_type": "code",
   "execution_count": 8,
   "id": "ff8baf80-d935-4b22-9843-ec3a201a7fca",
   "metadata": {},
   "outputs": [
    {
     "data": {
      "text/plain": [
       "-7"
      ]
     },
     "execution_count": 8,
     "metadata": {},
     "output_type": "execute_result"
    }
   ],
   "source": [
    "8-15                # int - int"
   ]
  },
  {
   "cell_type": "code",
   "execution_count": 9,
   "id": "300564d9-3f87-416c-9925-d499224873c8",
   "metadata": {},
   "outputs": [
    {
     "data": {
      "text/plain": [
       "6.9"
      ]
     },
     "execution_count": 9,
     "metadata": {},
     "output_type": "execute_result"
    }
   ],
   "source": [
    "10-(4.3-1.2)        # int - (float - float)"
   ]
  },
  {
   "cell_type": "code",
   "execution_count": 10,
   "id": "a1959537-3753-4352-8abe-a6664bc2e663",
   "metadata": {},
   "outputs": [
    {
     "data": {
      "text/plain": [
       "3.5"
      ]
     },
     "execution_count": 10,
     "metadata": {},
     "output_type": "execute_result"
    }
   ],
   "source": [
    "8-4.5               # int - float"
   ]
  },
  {
   "cell_type": "markdown",
   "id": "0faff9bf-c822-46c4-9f67-533c6051f50b",
   "metadata": {},
   "source": [
    "# Perkalian\n",
    "Untuk dapat melakukan operasi matamatika berupa perkalian, kamu dapat menggunakan tanda `*`."
   ]
  },
  {
   "cell_type": "code",
   "execution_count": 12,
   "id": "dcd811ec-ddb4-4282-8a4c-d4cab96e9265",
   "metadata": {},
   "outputs": [
    {
     "data": {
      "text/plain": [
       "136"
      ]
     },
     "execution_count": 12,
     "metadata": {},
     "output_type": "execute_result"
    }
   ],
   "source": [
    "8*17                # int * int"
   ]
  },
  {
   "cell_type": "code",
   "execution_count": 13,
   "id": "f12b7196-9b63-46ec-850c-923c99a0f560",
   "metadata": {},
   "outputs": [
    {
     "data": {
      "text/plain": [
       "118.55999999999999"
      ]
     },
     "execution_count": 13,
     "metadata": {},
     "output_type": "execute_result"
    }
   ],
   "source": [
    "3*(5.2*7.6)         # int * (float * float)"
   ]
  },
  {
   "cell_type": "code",
   "execution_count": 14,
   "id": "50af4029-bddc-42fc-be55-56ad0b8cacdf",
   "metadata": {},
   "outputs": [
    {
     "data": {
      "text/plain": [
       "40.0"
      ]
     },
     "execution_count": 14,
     "metadata": {},
     "output_type": "execute_result"
    }
   ],
   "source": [
    "16*2.5              # int * float"
   ]
  },
  {
   "cell_type": "markdown",
   "id": "ce063600-cd27-4b72-910c-dfe220acace4",
   "metadata": {},
   "source": [
    "# Pembagian\n",
    "Untuk dapat melakukan operasi matematika berupa pembagian, kamu dapat menggunakan tanda `/`. Hasil keluaran (output) dari operasi pembagian berupa tipe data `float`."
   ]
  },
  {
   "cell_type": "code",
   "execution_count": 16,
   "id": "c343922b-fbe2-4968-a80e-345d9c97ed05",
   "metadata": {},
   "outputs": [
    {
     "data": {
      "text/plain": [
       "3.0"
      ]
     },
     "execution_count": 16,
     "metadata": {},
     "output_type": "execute_result"
    }
   ],
   "source": [
    "12/4                # int / int"
   ]
  },
  {
   "cell_type": "code",
   "execution_count": 17,
   "id": "0de72e9a-500c-4cad-983f-88e11ad3057d",
   "metadata": {},
   "outputs": [
    {
     "data": {
      "text/plain": [
       "10.0"
      ]
     },
     "execution_count": 17,
     "metadata": {},
     "output_type": "execute_result"
    }
   ],
   "source": [
    "20/(6.4/3.2)        # int / (float / float)"
   ]
  },
  {
   "cell_type": "code",
   "execution_count": 18,
   "id": "7927b2bc-becb-4c8f-af55-5587a990df90",
   "metadata": {},
   "outputs": [
    {
     "data": {
      "text/plain": [
       "5.076923076923077"
      ]
     },
     "execution_count": 18,
     "metadata": {},
     "output_type": "execute_result"
    }
   ],
   "source": [
    "33/6.5              # int / float"
   ]
  },
  {
   "cell_type": "markdown",
   "id": "53d0fd62-6c6a-437f-b42e-94b26674d265",
   "metadata": {},
   "source": [
    "# Pemangkatan\n",
    "Untuk dapat melakukan operasi matematika berupa pemangkatan atau exponen dalam aljabar, kamu dapat menggunakan tanda `**`."
   ]
  },
  {
   "cell_type": "code",
   "execution_count": 19,
   "id": "7500aa6e-6a63-4132-879a-95a0d69adf6e",
   "metadata": {},
   "outputs": [
    {
     "data": {
      "text/plain": [
       "256"
      ]
     },
     "execution_count": 19,
     "metadata": {},
     "output_type": "execute_result"
    }
   ],
   "source": [
    "4**4                # int ** int"
   ]
  },
  {
   "cell_type": "code",
   "execution_count": 20,
   "id": "eb1cb737-9ea8-4539-957e-0628cb1b1a22",
   "metadata": {},
   "outputs": [
    {
     "data": {
      "text/plain": [
       "14.515932837559118"
      ]
     },
     "execution_count": 20,
     "metadata": {},
     "output_type": "execute_result"
    }
   ],
   "source": [
    "3.2**2.3            # float ** float"
   ]
  },
  {
   "cell_type": "code",
   "execution_count": 21,
   "id": "e160220e-120b-457a-89eb-03ec40cc0928",
   "metadata": {},
   "outputs": [
    {
     "data": {
      "text/plain": [
       "84.44850628946526"
      ]
     },
     "execution_count": 21,
     "metadata": {},
     "output_type": "execute_result"
    }
   ],
   "source": [
    "4**3.2              # int ** float"
   ]
  },
  {
   "cell_type": "markdown",
   "id": "b3f38688-ee87-4bea-8263-bf445ecc6a18",
   "metadata": {},
   "source": [
    "# Akar Kuadrat\n",
    "Untuk dapat melakukan operasi matematika berupa akar kuadrat (square root), terlebih dahulu kamu harus melakukan import terhadap module bernama math. Kemudian, cara menggunakannya dengan memasukkan nilai yang akan di akar kuadratkan ke dalam tanda kurung `math.sqrt(...)`."
   ]
  },
  {
   "cell_type": "code",
   "execution_count": 23,
   "id": "ea00c8f6-e412-4c96-97e1-efc1bb787c41",
   "metadata": {},
   "outputs": [
    {
     "data": {
      "text/plain": [
       "3.0"
      ]
     },
     "execution_count": 23,
     "metadata": {},
     "output_type": "execute_result"
    }
   ],
   "source": [
    "import math\n",
    "\n",
    "math.sqrt(9)        # int"
   ]
  },
  {
   "cell_type": "markdown",
   "id": "849d459d-31ac-4582-b08b-dcd9ed087412",
   "metadata": {},
   "source": [
    "# Latihan\n",
    "buat dengan bahasa pemograman python\n",
    "\n",
    ">1. Oji memiliki 550 kelereng lalu dia bermain bersama Pila lalu kalah sebanyak 350 kelereng. Kemudian dia membeli lagi kelereng sebanyak 250. Jadi jumlah kelereng milik Oji sekarang adalah\n",
    "\n",
    ">2. Rian pergi ke toko alat tulis untuk membeli bolpoin. Harga 1 buah bolpoin Rp 1.750. Jika Rian membeli 1 lusin bolpoin dan Ia membayar 5 lembar uang lima ribuan. Berapa uang kembalian yang Rian terima?"
   ]
  },
  {
   "cell_type": "code",
   "execution_count": null,
   "id": "0168456c-d8db-4bb2-8c3c-472fb65ef10e",
   "metadata": {},
   "outputs": [],
   "source": []
  }
 ],
 "metadata": {
  "kernelspec": {
   "display_name": "Python 3 (ipykernel)",
   "language": "python",
   "name": "python3"
  },
  "language_info": {
   "codemirror_mode": {
    "name": "ipython",
    "version": 3
   },
   "file_extension": ".py",
   "mimetype": "text/x-python",
   "name": "python",
   "nbconvert_exporter": "python",
   "pygments_lexer": "ipython3",
   "version": "3.9.7"
  }
 },
 "nbformat": 4,
 "nbformat_minor": 5
}
