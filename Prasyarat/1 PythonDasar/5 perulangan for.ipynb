{
 "cells": [
  {
   "cell_type": "markdown",
   "id": "86ffe72a-730f-4ecd-9f3b-c648f91d492a",
   "metadata": {},
   "source": [
    "# Intro\n",
    "Setelah sebelunya kita membahas perulangan menggunakan `while (while loop)`, perulangan selanjutnya yang akan kita bahas adalah perulangan menggunakan `for (for loop)`. Prinsip dari pengulangan menggunakan for loop adalah perulangan yang berdasarkan sesuatu.\n",
    "\n",
    ">for setiapHal in halIni:    # kondisi"
   ]
  },
  {
   "cell_type": "markdown",
   "id": "a2e5180c-9bed-459f-8223-ad8b277257be",
   "metadata": {},
   "source": [
    "> jalankanPernyataanIni      # pernyataan"
   ]
  },
  {
   "cell_type": "markdown",
   "id": "0c7f1de5-6aae-4277-abc0-128363732558",
   "metadata": {},
   "source": [
    "# Penerapan\n",
    "Misalkan, di dalam sebuah tim basket terdapat 5 anggota. Kita akan memberikan setiap anggotanya botol air. Kira-kira bentuk kodenya akan seperti ini."
   ]
  },
  {
   "cell_type": "code",
   "execution_count": 4,
   "id": "b956ac46-9042-4a89-804f-e62e698e555d",
   "metadata": {},
   "outputs": [
    {
     "name": "stdout",
     "output_type": "stream",
     "text": [
      "Berikan botol air ke Irvan\n",
      "Berikan botol air ke Ichsan\n",
      "Berikan botol air ke Wisnu\n",
      "Berikan botol air ke Cebe\n",
      "Berikan botol air ke Bly\n"
     ]
    }
   ],
   "source": [
    "timBasket = ['Irvan', 'Ichsan', 'Wisnu', 'Cebe', 'Bly']\n",
    "\n",
    "for anggota in timBasket:\n",
    "    print('Berikan botol air ke',anggota)"
   ]
  },
  {
   "cell_type": "markdown",
   "id": "89407a0e-2542-4d03-b4ba-d4c49b959b26",
   "metadata": {},
   "source": [
    "# Bongkar Kode\n",
    "Saya rasa, temen-temen pasti sudah paham mengenai konsep dari perulangan, seperti yang sudah dibahas pada materi while loop.\n",
    "\n",
    "for loop pun juga digunakan untuk menyelesaikan permasalahan yang membutuhkan perulangan agar lebih efisien. for loop biasanya digunakan untuk melakukan perulangan yang banyaknya telah diketahui sebelumnya.\n",
    "\n",
    "Seperti contoh di atas. Kita telah mengetahui banyaknya indeks pada variable `timBasket` berjumlah lima. Sehingga, kita sudah mengetahui bahwa perulangan akan bermula dari indeks ke 0 dan berhenti pada indeks ke 4.\n",
    "\n",
    "## Contoh lain\n",
    "\n",
    "Terdapat contoh lain dari penggunaan for loop yang pernah saya temui. Seperti ini.\n",
    "\n",
    "Misalkan, kita ingin membuat perualngan sebanyak 10 kali, sambil menampilkan output dari urutan perulangan yang sudah terjadi ke dalam console."
   ]
  },
  {
   "cell_type": "code",
   "execution_count": 6,
   "id": "e755814c-35e3-4224-ae02-3a1202cf6f36",
   "metadata": {},
   "outputs": [
    {
     "name": "stdout",
     "output_type": "stream",
     "text": [
      "1\n",
      "2\n",
      "3\n",
      "4\n",
      "5\n",
      "6\n",
      "7\n",
      "8\n",
      "9\n",
      "10\n"
     ]
    }
   ],
   "source": [
    "for x in range(1,11):\n",
    "    print(x)"
   ]
  },
  {
   "cell_type": "markdown",
   "id": "b7facb37-34fd-4754-b8be-6be133502d04",
   "metadata": {},
   "source": [
    "`range()` adalah sebuah built-in function dalam Python yang berguna untuk menghasilkan sebuah object dalam tipe data integer yang berurutan dari start sampai stop dengan step tertentu.\n",
    "\n",
    "Rumus dari fungsi range adalah,\n",
    "> range(start, stop, step)\n",
    "\n",
    "Dapat kita lihat bahwa fungsi range() memiliki 3 buah parameter. Parameter adalah syarat yang diperlukan oleh sebuah fungsi agar dapat melakukan tugasnya. Pembahasan lebih lanjut mengenai parameter akan kita bahas pada materi yang lain.\n",
    "\n",
    "Secara default, range() memiliki nilai parameter start = 0. Dan memiliki minimal 1 parameter yang harus kita penuhi. Hal ini membuat kita dapat menuliskan fungsi range() seperti ini."
   ]
  },
  {
   "cell_type": "code",
   "execution_count": 8,
   "id": "f83a4ea6-513a-48cf-8941-c18b28c65b88",
   "metadata": {},
   "outputs": [
    {
     "name": "stdout",
     "output_type": "stream",
     "text": [
      "0\n",
      "1\n",
      "2\n",
      "3\n"
     ]
    }
   ],
   "source": [
    "for x in range(4):\n",
    "    print(x)"
   ]
  },
  {
   "cell_type": "markdown",
   "id": "2c68a7a7-c425-4381-a1f6-ddadf5e80419",
   "metadata": {},
   "source": [
    "Artinya, range(start=0, stop=4, step=0). Sehingga akan menghasilkan output berupa. Atau,\n",
    "\n",
    "Misalkan kita ingin menghitung berapakah total hasil penjumlahan yang ada pada sebuah list."
   ]
  },
  {
   "cell_type": "code",
   "execution_count": 9,
   "id": "b9d21813-f873-437e-a44d-f8cf2a12344f",
   "metadata": {},
   "outputs": [
    {
     "name": "stdout",
     "output_type": "stream",
     "text": [
      "16600\n"
     ]
    }
   ],
   "source": [
    "daftarHarga = [1500, 2300, 5200, 7600]\n",
    "total = 0\n",
    "\n",
    "for hargaSatuan in daftarHarga:\n",
    "    total = total + hargaSatuan\n",
    "\n",
    "print(total)"
   ]
  },
  {
   "cell_type": "code",
   "execution_count": null,
   "id": "a5533c0e-0f97-40da-971a-c6a631d12b2d",
   "metadata": {},
   "outputs": [],
   "source": []
  }
 ],
 "metadata": {
  "kernelspec": {
   "display_name": "Python 3 (ipykernel)",
   "language": "python",
   "name": "python3"
  },
  "language_info": {
   "codemirror_mode": {
    "name": "ipython",
    "version": 3
   },
   "file_extension": ".py",
   "mimetype": "text/x-python",
   "name": "python",
   "nbconvert_exporter": "python",
   "pygments_lexer": "ipython3",
   "version": "3.9.7"
  }
 },
 "nbformat": 4,
 "nbformat_minor": 5
}
