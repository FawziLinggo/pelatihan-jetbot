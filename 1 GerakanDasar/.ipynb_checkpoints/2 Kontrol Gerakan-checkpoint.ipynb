{
 "cells": [
  {
   "cell_type": "markdown",
   "metadata": {},
   "source": [
    "# Mengontrol motor satu per satu\n",
    "\n",
    "Pada bagian sebelumnya kita melihat bagaimana kita dapat mengontrol robot menggunakan perintah seperti ``kiri``, ``kanan``, ``maju``, dan ``mundur``. Tetapi bagaimana jika kita ingin mengatur kecepatan masing-masing motor satu per satu? Nah, ada dua cara sehingga kita bisa melakukannya\n",
    "\n",
    "Cara pertama adalah memanggil metode ``set_motors``. Misalnya, untuk berbelok ke kiri selama satu detik kita bisa mengatur motor kiri menjadi 30% dan motor kanan menjadi 60% seperti berikut."
   ]
  },
  {
   "cell_type": "code",
   "execution_count": 1,
   "metadata": {},
   "outputs": [],
   "source": [
    "from jetbot import Robot\n",
    "import time\n",
    "robot = Robot()"
   ]
  },
  {
   "cell_type": "markdown",
   "metadata": {},
   "source": [
    " > jangan lupa untuk mengimport paket yang di perlukan"
   ]
  },
  {
   "cell_type": "code",
   "execution_count": 9,
   "metadata": {},
   "outputs": [],
   "source": [
    "#maju\n",
    "robot.set_motors(0.1, 0.1)\n",
    "time.sleep(5.0)\n",
    "#mundur\n",
    "robot.set_motors(-0.1,-0.1)\n",
    "time.sleep(5.0)\n",
    "robot.stop()"
   ]
  },
  {
   "cell_type": "code",
   "execution_count": 14,
   "metadata": {},
   "outputs": [],
   "source": [
    "#kiri\n",
    "robot.set_motors(-0.2,0.2)\n",
    "time.sleep(5.0)\n",
    "#kanan\n",
    "robot.set_motors(0.2,-0.3)\n",
    "time.sleep(5.0)\n",
    "robot.stop()"
   ]
  },
  {
   "cell_type": "markdown",
   "metadata": {},
   "source": [
    "Kelas ``Robot`` memiliki dua atribut bernama ``left_motor``(motor_kiri) dan ``right_motor``(motor_kanan) yang mewakili setiap motor satu per satu. Atribut ini adalah instance kelas ``Motor``, masing-masing berisi atribut ``value``. Atribut ``value`` ini adalah [traitlet](https://github.com/ipython/traitlets) yang menghasilkan ``events`` saat diberi nilai baru."
   ]
  },
  {
   "cell_type": "code",
   "execution_count": 3,
   "metadata": {},
   "outputs": [],
   "source": [
    "robot.left_motor.value = 0.1\n",
    "robot.right_motor.value = 0.2\n",
    "time.sleep(5.2)\n",
    "robot.left_motor.value = 0.0\n",
    "robot.right_motor.value = 0.0"
   ]
  },
  {
   "cell_type": "markdown",
   "metadata": {},
   "source": [
    "> Kita akan melihat robot bergerak dengan cara yang sama persis!"
   ]
  },
  {
   "cell_type": "markdown",
   "metadata": {},
   "source": [
    "## Menghubungkan motor ke traitlets\n",
    "Fitur yang sangat keren tentang [traitlets](https://github.com/ipython/traitlets) ini adalah kami dapat\n",
    "juga menautkannya ke \"traitlet!\" lainnya. Ini sangat berguna karena Jupyter Notebooks memungkinkan kita untuk membuat ``widget``. Ini berarti kita dapat mengatur motor kita ke ``widget`` untuk mengontrolnya dari browser, atau hanya memvisualisasikan nilainya.\n",
    "\n",
    "Untuk menunjukkan bagaimana melakukan ini, mari buat dan tampilkan dua slider yang akan kita gunakan untuk mengontrol motor kita."
   ]
  },
  {
   "cell_type": "code",
   "execution_count": 4,
   "metadata": {},
   "outputs": [
    {
     "data": {
      "application/vnd.jupyter.widget-view+json": {
       "model_id": "fc297357a8c845d694e926e62418fa0a",
       "version_major": 2,
       "version_minor": 0
      },
      "text/plain": [
       "HBox(children=(FloatSlider(value=0.0, description='left', max=1.0, min=-1.0, step=0.01), FloatSlider(value=0.0…"
      ]
     },
     "metadata": {},
     "output_type": "display_data"
    }
   ],
   "source": [
    "import ipywidgets.widgets as widgets\n",
    "from IPython.display import display\n",
    "\n",
    "# membuat 2 slider dengan rentang [-1.0, 1.0]\n",
    "left_slider = widgets.FloatSlider(description='left', min=-1.0, max=1.0, step=0.01, orientation='horizontal')\n",
    "right_slider = widgets.FloatSlider(description='right', min=-1.0, max=1.0, step=0.01, orientation='horizontal')\n",
    "\n",
    "# membuat widget berdampingan \n",
    "slider_container = widgets.HBox([left_slider, right_slider])\n",
    "\n",
    "# menghasilkan display container\n",
    "display(slider_container)"
   ]
  },
  {
   "cell_type": "markdown",
   "metadata": {},
   "source": [
    "Anda akan melihat dua bilah geser ``vertikal`` ditampilkan di atas.\n",
    "\n",
    "> TIPS MEMBANTU: Di Jupyter Lab, Kita sebenarnya dapat \"meletakkan\" output sel ke jendela yang sepenuhnya terpisah! Itu akan tetap\n",
    "> terhubung ke notebook, tetapi ditampilkan secara terpisah. Ini berguna jika kita ingin menyematkan output dari kode yang kita jalankan di tempat lain.\n",
    "> Untuk melakukannya, klik kanan output sel dan pilih ``Buat Tampilan Baru untuk Output``. Anda kemudian dapat menyeret jendela baru\n",
    "> ke lokasi yang menurut Anda menyenangkan."
   ]
  },
  {
   "cell_type": "markdown",
   "metadata": {},
   "source": [
    "Sekarang coba seret penggeser (perlahan pada awalnya). Anda harus melihat putaran motor masing-masing!\n",
    "\n",
    "Fungsi ``link`` yang kita buat di atas sebenarnya membuat tautan dua arah! Itu berarti, jika kita mengatur nilai motor di tempat lain, slider akan diperbarui! Coba jalankan blok kode di bawah ini"
   ]
  },
  {
   "cell_type": "code",
   "execution_count": 5,
   "metadata": {},
   "outputs": [],
   "source": [
    "import traitlets\n",
    "\n",
    "left_link = traitlets.link((left_slider, 'value'), (robot.left_motor, 'value'))\n",
    "right_link = traitlets.link((right_slider, 'value'), (robot.right_motor, 'value'))"
   ]
  },
  {
   "cell_type": "code",
   "execution_count": 6,
   "metadata": {},
   "outputs": [],
   "source": [
    "robot.forward(0.1)\n",
    "time.sleep(10.0)\n",
    "robot.stop()"
   ]
  },
  {
   "cell_type": "markdown",
   "metadata": {},
   "source": [
    "kita akan melihat bilah geser merespons perintah motor! Jika kita ingin menghapus koneksi ini, kita dapat memanggil metode ``unlink`` dari setiap link."
   ]
  },
  {
   "cell_type": "code",
   "execution_count": 7,
   "metadata": {},
   "outputs": [],
   "source": [
    "left_link.unlink()\n",
    "right_link.unlink()"
   ]
  },
  {
   "cell_type": "markdown",
   "metadata": {},
   "source": [
    "Tetapi bagaimana jika kita tidak menginginkan tautan *dua arah*, katakanlah kita hanya ingin menggunakan penggeser untuk menampilkan nilai motor, tetapi tidak mengontrolnya. Untuk itu kita bisa menggunakan fungsi ``dlink``. Input kiri adalah ``source`` dan input kanan adalah ``target``"
   ]
  },
  {
   "cell_type": "code",
   "execution_count": 8,
   "metadata": {},
   "outputs": [],
   "source": [
    "left_link = traitlets.dlink((robot.left_motor, 'value'), (left_slider, 'value'))\n",
    "right_link = traitlets.dlink((robot.right_motor, 'value'), (right_slider, 'value'))"
   ]
  },
  {
   "cell_type": "markdown",
   "metadata": {},
   "source": [
    "Sekarang coba pindahkan slider. kita akan melihat bahwa robot tidak merespons. Tetapi ketika mengatur motor menggunakan metode yang berbeda, slider akan memperbarui dan menampilkan nilainya!"
   ]
  },
  {
   "cell_type": "markdown",
   "metadata": {},
   "source": [
    "## membuat fungsi ke events\n",
    "Cara lain untuk menggunakan `traitlets`, adalah dengan melampirkan fungsi (seperti `forward`) ke `events`. Fungsi-fungsi ini akan dipanggil setiap kali terjadi perubahan pada objek, dan akan diberikan beberapa informasi tentang perubahan tersebut seperti nilai `lama` dan nilai `baru`.\n",
    "\n",
    "Mari kita buat dan tampilkan beberapa tombol yang akan kita gunakan untuk mengontrol robot."
   ]
  },
  {
   "cell_type": "code",
   "execution_count": 12,
   "metadata": {},
   "outputs": [
    {
     "data": {
      "application/vnd.jupyter.widget-view+json": {
       "model_id": "b1c27eff3fc94d7a83068a1805c62c6d",
       "version_major": 2,
       "version_minor": 0
      },
      "text/plain": [
       "VBox(children=(Button(description='maju', layout=Layout(align_self='center', height='80px', width='100px'), st…"
      ]
     },
     "metadata": {},
     "output_type": "display_data"
    }
   ],
   "source": [
    "# membuat tombol\n",
    "button_layout = widgets.Layout(width='100px', height='80px', align_self='center')\n",
    "stop_button = widgets.Button(description='berhenti', button_style='danger', layout=button_layout)\n",
    "forward_button = widgets.Button(description='maju', layout=button_layout)\n",
    "backward_button = widgets.Button(description='mundur', layout=button_layout)\n",
    "left_button = widgets.Button(description='kiri', layout=button_layout)\n",
    "right_button = widgets.Button(description='kanan', layout=button_layout)\n",
    "\n",
    "# menampilkan tombol\n",
    "middle_box = widgets.HBox([left_button, stop_button, right_button], layout=widgets.Layout(align_self='center'))\n",
    "controls_box = widgets.VBox([forward_button, middle_box, backward_button])\n",
    "display(controls_box)"
   ]
  },
  {
   "cell_type": "markdown",
   "metadata": {},
   "source": [
    "Kita akan melihat satu set kontrol robot ditampilkan di atas! Tapi sekarang tombol ini tidak akan melakukan apa-apa (tidak berfungsi). Untuk melakukannya, kita perlu membuat beberapa fungsi yang akan kita lampirkan ke event ``on_click`` tombol."
   ]
  },
  {
   "cell_type": "code",
   "execution_count": 16,
   "metadata": {},
   "outputs": [],
   "source": [
    "def berhenti(change):\n",
    "    robot.stop()\n",
    "    \n",
    "def maju(change):\n",
    "    robot.forward(0.4)\n",
    "    time.sleep(0.5)\n",
    "    robot.stop()\n",
    "\n",
    "def mundur(change):\n",
    "    robot.backward(0.4)\n",
    "    time.sleep(0.5)\n",
    "    robot.stop()\n",
    "\n",
    "def kiri(change):\n",
    "    robot.left(0.3)\n",
    "    time.sleep(0.5)\n",
    "    robot.stop()\n",
    "\n",
    "def kanan(change):\n",
    "    robot.right(0.3)\n",
    "    time.sleep(0.5)\n",
    "    robot.stop()"
   ]
  },
  {
   "cell_type": "markdown",
   "metadata": {},
   "source": [
    "Sekarang setelah kita mendefinisikan fungsinya, mari kita lampirkan ke event on-click dari setiap tombol"
   ]
  },
  {
   "cell_type": "code",
   "execution_count": 17,
   "metadata": {},
   "outputs": [],
   "source": [
    "# link tombol untuk melakukan perintah\n",
    "stop_button.on_click(berhenti)\n",
    "forward_button.on_click(maju)\n",
    "backward_button.on_click(mundur)\n",
    "left_button.on_click(kiri)\n",
    "right_button.on_click(kanan)"
   ]
  },
  {
   "cell_type": "markdown",
   "metadata": {},
   "source": [
    "Sekarang ketika Kita mengklik setiap tombol, Anda akan melihat robot bergerak!"
   ]
  },
  {
   "cell_type": "markdown",
   "metadata": {},
   "source": [
    "## Heartbeat Killswitch\n",
    "Di sini kami menunjukkan cara menghubungkan 'Heartbeat' untuk menghentikan robot agar tidak bergerak. Ini adalah cara sederhana untuk mendeteksi apakah koneksi robot masih hidup. Kita dapat menurunkan penggeser di bawah untuk mengurangi periode (dalam detik) Heartbeat. Jika komunikasi bolak-balik antara browser tidak dapat dilakukan dalam dua Heartbeat, atribut '`status`' dari Heartbeat akan disetel ``mati``. Segera setelah koneksi dipulihkan, atribut ``status`` akan kembali ke ``hidup``.. "
   ]
  },
  {
   "cell_type": "code",
   "execution_count": 23,
   "metadata": {},
   "outputs": [
    {
     "data": {
      "application/vnd.jupyter.widget-view+json": {
       "model_id": "7c1a8f962a3541539bd7b72f5a787704",
       "version_major": 2,
       "version_minor": 0
      },
      "text/plain": [
       "FloatSlider(value=0.5, description='period', max=0.5, min=0.001, step=0.01)"
      ]
     },
     "metadata": {},
     "output_type": "display_data"
    },
    {
     "data": {
      "application/vnd.jupyter.widget-view+json": {
       "model_id": "5b7fac243dc44dbcbc523129d9f21dba",
       "version_major": 2,
       "version_minor": 0
      },
      "text/plain": [
       "FloatText(value=1636592353.1386883)"
      ]
     },
     "metadata": {},
     "output_type": "display_data"
    }
   ],
   "source": [
    "from jetbot import Heartbeat\n",
    "\n",
    "heartbeat = Heartbeat()\n",
    "\n",
    "# this function will be called when heartbeat 'alive' status changes\n",
    "def handle_heartbeat_status(change):\n",
    "    if change['new'] == Heartbeat.Status.dead:\n",
    "        robot.stop()\n",
    "        \n",
    "heartbeat.observe(handle_heartbeat_status, names='status')\n",
    "\n",
    "period_slider = widgets.FloatSlider(description='period', min=0.001, max=0.5, step=0.01, value=0.5)\n",
    "traitlets.dlink((period_slider, 'value'), (heartbeat, 'period'))\n",
    "\n",
    "display(period_slider, heartbeat.pulseout)"
   ]
  },
  {
   "cell_type": "code",
   "execution_count": 24,
   "metadata": {},
   "outputs": [],
   "source": [
    "robot.left(0.2)"
   ]
  },
  {
   "cell_type": "code",
   "execution_count": 25,
   "metadata": {},
   "outputs": [],
   "source": [
    "robot.stop()"
   ]
  },
  {
   "cell_type": "markdown",
   "metadata": {},
   "source": [
    "# Latihan\n"
   ]
  },
  {
   "cell_type": "code",
   "execution_count": null,
   "metadata": {},
   "outputs": [],
   "source": []
  }
 ],
 "metadata": {
  "kernelspec": {
   "display_name": "Python 3",
   "language": "python",
   "name": "python3"
  },
  "language_info": {
   "codemirror_mode": {
    "name": "ipython",
    "version": 3
   },
   "file_extension": ".py",
   "mimetype": "text/x-python",
   "name": "python",
   "nbconvert_exporter": "python",
   "pygments_lexer": "ipython3",
   "version": "3.6.9"
  }
 },
 "nbformat": 4,
 "nbformat_minor": 4
}
