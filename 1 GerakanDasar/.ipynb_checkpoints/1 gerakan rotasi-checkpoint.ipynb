{
 "cells": [
  {
   "cell_type": "markdown",
   "metadata": {},
   "source": [
    "# Gerakan rotasi\n",
    "Selamat datang di pelatihan Dasar Jetbot\n",
    "pelatihan ini akan dimulai dengan gerakan pada jetbot \n",
    "dengan menggunakan antarmuka Jupyter Lab\n",
    "\n",
    "Untuk memulai pemrograman JetBot, kita perlu mengimpor library ``Robot``. Kelas ini memungkinkan kita dengan mudah mengontrol motor jetbot library ``Robot`` Ini terdapat dalam paket ``jetbot``. *paket* pada dasarnya adalah folder yang berisi file kode. File kode ini disebut juga dengan *modul*."
   ]
  },
  {
   "cell_type": "code",
   "execution_count": 1,
   "metadata": {},
   "outputs": [],
   "source": [
    "from jetbot import Robot"
   ]
  },
  {
   "cell_type": "markdown",
   "metadata": {},
   "source": [
    "bari kode diatas adalah perintah untuk mengimpor kode library Robot yang terdapat dalam modul jetbot. Sekarang setelah kita mengimpor kelas ``Robot``, kita dapat menginisialisasi kelas *instance* sebagai berikut."
   ]
  },
  {
   "cell_type": "code",
   "execution_count": 2,
   "metadata": {},
   "outputs": [],
   "source": [
    "robot = Robot()"
   ]
  },
  {
   "cell_type": "markdown",
   "metadata": {},
   "source": [
    "Sekarang kita telah membuat inisialisasi ``Robot`` yang kita beri nama \"robot\", kita dapat menggunakan inisialisasi ini untuk mengontrol robot. Untuk membuat robot berputar berlawanan arah jarum jam pada 10% dari kecepatan maksimumnya, kita dapat memanggil dengan kode sebagai berikut:\n",
    "\n",
    "> PERINGATAN: Perintah selanjutnya ini akan membuat robot bergerak!"
   ]
  },
  {
   "cell_type": "code",
   "execution_count": 3,
   "metadata": {},
   "outputs": [],
   "source": [
    "robot.left(speed=2) #kecepatan 10%"
   ]
  },
  {
   "cell_type": "code",
   "execution_count": 4,
   "metadata": {},
   "outputs": [],
   "source": [
    "robot.right(speed=0.3) #kecepatan 10% searah jarum jam"
   ]
  },
  {
   "cell_type": "markdown",
   "metadata": {},
   "source": [
    "Keren, Anda akan melihat robot berputar berlawanan arah jarum jam dan juga searah jarum jam dengan perintah `right`. kecepatan diatur dalam persen dengan mengganti inisialisasi dari `speed` dalam desimal dari 0 - 1 (0.3)\n",
    "Sekarang, untuk menghentikan robot kita dapat memanggil metode ``stop``."
   ]
  },
  {
   "cell_type": "code",
   "execution_count": 5,
   "metadata": {},
   "outputs": [],
   "source": [
    "robot.stop()"
   ]
  },
  {
   "cell_type": "markdown",
   "metadata": {},
   "source": [
    "Mungkin kita hanya ingin menjalankan robot untuk jangka waktu tertentu. Untuk itu, kita dapat menggunakan paket ``time`` Python."
   ]
  },
  {
   "cell_type": "code",
   "execution_count": 10,
   "metadata": {},
   "outputs": [],
   "source": [
    "import time"
   ]
  },
  {
   "cell_type": "markdown",
   "metadata": {},
   "source": [
    "Paket ini mendefinisikan fungsi ``sleep``, yang menyebabkan eksekusi kode diblokir selama beberapa detik tertentu\n",
    "sebelum menjalankan perintah berikutnya. Coba cara berikut agar robot belok kiri hanya setengah detik."
   ]
  },
  {
   "cell_type": "code",
   "execution_count": 7,
   "metadata": {},
   "outputs": [],
   "source": [
    "robot.left(0.1)\n",
    "time.sleep(1.5)\n",
    "robot.right(0.2)\n",
    "time.sleep(1.5)\n",
    "robot.stop()"
   ]
  },
  {
   "cell_type": "markdown",
   "metadata": {},
   "source": [
    "Kita akan melihat robot berbelok ke kiri sebentar lalu berbelok kekanan dengan menambah kecepatan menjadi 0.2 dan kemudian berhenti.\n",
    "\n",
    "> Kenapa kita tidak menuliskan perintah ``speed=`` di dalam metode ``left`` / ``right`` ? Python memungkinkan kita untuk mengatur parameter fungsi dengan nama , atau urutan di mana didefinisikan (tanpa menentukan nama).\n",
    "\n",
    "`Robot()`juga memiliki metode ``forward``, dan ``backwards``."
   ]
  },
  {
   "cell_type": "code",
   "execution_count": 9,
   "metadata": {},
   "outputs": [],
   "source": [
    "robot.forward(0.1)\n",
    "time.sleep(1.5)\n",
    "robot.backward(0.1)\n",
    "time.sleep(1.5)\n",
    "robot.stop()"
   ]
  },
  {
   "cell_type": "markdown",
   "metadata": {},
   "source": [
    "berikut merupakan `coding` jetbot melakukan putaran berlawanan arah jarum jam hingga kembali ke titik semula, dengan kecepatan `0,1` "
   ]
  },
  {
   "cell_type": "code",
   "execution_count": null,
   "metadata": {},
   "outputs": [],
   "source": [
    "robot.forward(0.1)\n",
    "time.sleep(3)\n",
    "robot.left(0.1)\n",
    "time.sleep(1)\n",
    "robot.forward(0.1)\n",
    "time.sleep(3)\n",
    "robot.left(0.1)\n",
    "time.sleep(1)\n",
    "robot.forward(0.1)\n",
    "time.sleep(3)\n",
    "robot.left(0.1)\n",
    "time.sleep(1)\n",
    "robot.forward(0.1)\n",
    "time.sleep(3)\n",
    "robot.left(0.1)\n",
    "time.sleep(1)\n",
    "robot.stop()\n"
   ]
  },
  {
   "cell_type": "markdown",
   "metadata": {},
   "source": [
    "## Latihan\n",
    "kembangkanlah kode di atas dengan menggunakan perulangan `for` pada python sehingga  dapat melakukan perputaran sebanyak 3 kali"
   ]
  },
  {
   "cell_type": "code",
   "execution_count": null,
   "metadata": {},
   "outputs": [],
   "source": [
    "## Tulis kode disini\n"
   ]
  }
 ],
 "metadata": {
  "kernelspec": {
   "display_name": "Python 3",
   "language": "python",
   "name": "python3"
  },
  "language_info": {
   "codemirror_mode": {
    "name": "ipython",
    "version": 3
   },
   "file_extension": ".py",
   "mimetype": "text/x-python",
   "name": "python",
   "nbconvert_exporter": "python",
   "pygments_lexer": "ipython3",
   "version": "3.6.9"
  }
 },
 "nbformat": 4,
 "nbformat_minor": 4
}
