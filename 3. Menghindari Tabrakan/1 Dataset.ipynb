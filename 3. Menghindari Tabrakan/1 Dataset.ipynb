{
 "cells": [
  {
   "cell_type": "markdown",
   "metadata": {},
   "source": [
    "# Penghindaran Tabrakan - Pengumpulan Data\n",
    "\n",
    "Jika kita menjalankan program `gerak dasar`,  kita menikmati betapa mudahnya membuat Jetbot bergerak! Itu sangat keren! Tapi yang lebih keren lagi, membuat JetBot bergerak sendiri!\n",
    "\n",
    "Ini adalah tugas yang sangat sulit, yang memiliki banyak pendekatan, tetapi seluruh masalah biasanya dipecah menjadi sub masalah yang lebih mudah. Dapat dikatakan bahwa salah satu sub masalah yang paling penting untuk dipecahkan, adalah masalah mencegah robot memasuki situasi berbahaya! kita menyebutnya *penghindaran tabrakan*.\n",
    "\n",
    "Dalam materi kali ini, kita akan mencoba memecahkan masalah menggunakan pembelajaran mendalam atau yang biasa disebut *Deep Learning* dan satu sensor yang sangat serbaguna: kamera. kita akan melihat bagaimana dengan jaringan saraf (Neural Network), kamera, dan NVIDIA Jetson Nano, kami dapat mengajari robot perilaku yang sangat berguna!\n",
    "\n",
    "Pendekatan yang kita ambil untuk menghindari tabrakan adalah dengan membuat \"safety bubble\" virtual di sekitar robot. Dalam pengaman ini, robot dapat berputar dalam lingkaran tanpa menabrak benda apa pun (atau situasi berbahaya lainnya seperti jatuh dari jalur).\n",
    "\n",
    "\n",
    "Tentu saja, robot dibatasi oleh apa yang ada di bidang penglihatannya, dan kita tidak dapat mencegah objek ditempatkan di belakang robot, dll. Tetapi kita dapat mencegah robot memasuki skenario yang kita buat.\n",
    "\n",
    "\n",
    "Cara yang akan kita lakukan ini sangat sederhana:\n",
    "\n",
    "Pertama, kita akan menempatkan robot secara manual dalam skenario yang akan kita buat di mana \"safety bubble\" dilanggar, dan memberi label skenario ini ``blocked``. kita akan menyimpan cuplikan (gambar) dari apa yang dilihat robot bersama dengan label ini.\n",
    "\n",
    "Kedua, kita akan menempatkan robot secara manual dalam skenario yang aman untuk bergerak maju sedikit, dan memberi label skenario ini ``free``. Demikian juga, kami menyimpan snapshot bersama dengan label ini.\n",
    "\n",
    "Itu saja yang akan kita lakukan dalam materi kali ini; pengumpulan data. Setelah kita memiliki banyak gambar dan label, kami akan mengunggah data ini ke mesin berkemampuan GPU tempat kami akan *melatih* jaringan saraf untuk memprediksi.\n",
    "\n",
    "> CATATAN PENTING: Saat JetBot berputar di tempatnya, ia sebenarnya berputar di sekitar pusat di antara kedua roda, bukan di tengah sasis robot itu sendiri. Ini adalah detail penting yang perlu diingat ketika kita mencoba memperkirakan apakah \"safety bubble\" robot dilanggar atau tidak. Tapi jangan khawatir, Anda tidak harus tepat. Jika ragu, lebih baik bersandar pada sisi yang berhati-hati (gelembung keamanan besar). Kita ingin memastikan JetBot tidak memasuki skenario yang tidak dapat dihindari dengan memutar di tempatnya.\n",
    "\n",
    "### Menampilkan kamera secara langsung\n",
    "\n",
    "Jadi mari kita mulai. Pertama, mari kita inisialisasi dan menampilkan kamera kita seperti yang kita lakukan pada materi *teleoperasi*.\n",
    "\n",
    "> Jaringan saraf kita mengambil gambar 224x224 piksel sebagai masukan. kita akan mengatur kamera ke ukuran itu untuk meminimalkan ukuran file dari kumpulan data.\n",
    "> Dalam beberapa skenario, mungkin lebih baik untuk mengumpulkan data dalam ukuran gambar yang lebih besar dan menurunkan skala ke ukuran yang diinginkan nanti."
   ]
  },
  {
   "cell_type": "code",
   "execution_count": 2,
   "metadata": {},
   "outputs": [
    {
     "data": {
      "application/vnd.jupyter.widget-view+json": {
       "model_id": "e7abda5f94294638ae44fcb7d3616a62",
       "version_major": 2,
       "version_minor": 0
      },
      "text/plain": [
       "Image(value=b'\\xff\\xd8\\xff\\xe0\\x00\\x10JFIF\\x00\\x01\\x01\\x00\\x00\\x01\\x00\\x01\\x00\\x00\\xff\\xdb\\x00C\\x00\\x02\\x01\\x0…"
      ]
     },
     "metadata": {},
     "output_type": "display_data"
    }
   ],
   "source": [
    "import traitlets\n",
    "import ipywidgets.widgets as widgets\n",
    "from IPython.display import display\n",
    "from jetbot import Camera, bgr8_to_jpeg\n",
    "\n",
    "camera = Camera.instance(width=224, height=224)\n",
    "\n",
    "image = widgets.Image(format='jpeg', width=224, height=224)  # this width and height doesn't necessarily have to match the camera\n",
    "\n",
    "camera_link = traitlets.dlink((camera, 'value'), (image, 'value'), transform=bgr8_to_jpeg)\n",
    "\n",
    "display(image)"
   ]
  },
  {
   "cell_type": "markdown",
   "metadata": {},
   "source": [
    "Luar biasa, selanjutnya mari kita buat beberapa direktori tempat kita akan menyimpan semua data kita. kita akan membuat folder ``dataset`` yang akan berisi dua sub-folder ``free`` dan ``blocked``,\n",
    "di mana kita akan menempatkan gambar untuk setiap skenario."
   ]
  },
  {
   "cell_type": "code",
   "execution_count": 2,
   "metadata": {},
   "outputs": [
    {
     "name": "stdout",
     "output_type": "stream",
     "text": [
      "Directories not created becasue they already exist\n"
     ]
    }
   ],
   "source": [
    "import os\n",
    "\n",
    "blocked_dir = 'dataset/blocked'\n",
    "free_dir = 'dataset/free'\n",
    "\n",
    "# kita memiliki pernyataan \"try/expect\" ini karena fungsi berikut dapat menimbulkan kesalahan jika direktori sudah ada\n",
    "\n",
    "try:\n",
    "    os.makedirs(free_dir)\n",
    "    os.makedirs(blocked_dir)\n",
    "except FileExistsError:\n",
    "    print('Directories not created becasue they already exist')"
   ]
  },
  {
   "cell_type": "markdown",
   "metadata": {},
   "source": [
    "Jika Anda me-refresh browser file Jupyter di sebelah kiri, Anda sekarang akan melihat direktori tersebut muncul. Selanjutnya, mari kita buat dan tampilkan beberapa tombol yang akan kita gunakan untuk menyimpan snapshot\n",
    "untuk setiap label kelas. Kita juga akan menambahkan beberapa kotak teks yang akan menampilkan berapa banyak gambar dari setiap kategori yang telah kami kumpulkan sejauh ini. Ini berguna karena kami ingin membuat\n",
    "\n",
    "tentu saja kita mengumpulkan gambar ``free`` sebanyak gambar ``bloked``. Ini juga membantu untuk mengetahui berapa banyak gambar yang telah kami kumpulkan secara keseluruhan."
   ]
  },
  {
   "cell_type": "code",
   "execution_count": 3,
   "metadata": {},
   "outputs": [
    {
     "data": {
      "application/vnd.jupyter.widget-view+json": {
       "model_id": "f4a516d90b0c49089375c182096f7fcc",
       "version_major": 2,
       "version_minor": 0
      },
      "text/plain": [
       "HBox(children=(IntText(value=1, layout=Layout(height='64px', width='128px')), Button(button_style='success', d…"
      ]
     },
     "metadata": {},
     "output_type": "display_data"
    },
    {
     "data": {
      "application/vnd.jupyter.widget-view+json": {
       "model_id": "4f27371b1aa9446bab711a4993d2e4fa",
       "version_major": 2,
       "version_minor": 0
      },
      "text/plain": [
       "HBox(children=(IntText(value=0, layout=Layout(height='64px', width='128px')), Button(button_style='danger', de…"
      ]
     },
     "metadata": {},
     "output_type": "display_data"
    }
   ],
   "source": [
    "button_layout = widgets.Layout(width='128px', height='64px')\n",
    "free_button = widgets.Button(description='add free', button_style='success', layout=button_layout)\n",
    "blocked_button = widgets.Button(description='add blocked', button_style='danger', layout=button_layout)\n",
    "free_count = widgets.IntText(layout=button_layout, value=len(os.listdir(free_dir)))\n",
    "blocked_count = widgets.IntText(layout=button_layout, value=len(os.listdir(blocked_dir)))\n",
    "\n",
    "display(widgets.HBox([free_count, free_button]))\n",
    "display(widgets.HBox([blocked_count, blocked_button]))"
   ]
  },
  {
   "cell_type": "markdown",
   "metadata": {},
   "source": [
    "Saat ini, tombol-tombol ini tidak akan melakukan apa-apa. Kita harus melampirkan fungsi untuk menyimpan gambar untuk setiap kategori ke fungsi ``on_click`` tombol. lalu kita akan menyimpan nilainya\n",
    "widget ``Image``,  sudah dalam format JPEG terkompresi!\n",
    "\n",
    "Untuk memastikan kita tidak mengulangi nama file yang sama (bahkan di mesin yang berbeda!), kami akan menggunakan paket ``uuid`` dalam python, yang mendefinisikan metode ``uuid1`` untuk menghasilkan pengenal unik. Pengidentifikasi unik ini dihasilkan dari informasi seperti waktu saat ini dan alamat mesin."
   ]
  },
  {
   "cell_type": "code",
   "execution_count": 5,
   "metadata": {},
   "outputs": [],
   "source": [
    "from uuid import uuid1\n",
    "\n",
    "def save_snapshot(directory):\n",
    "    image_path = os.path.join(directory, str(uuid1()) + '.jpg')\n",
    "    with open(image_path, 'wb') as f:\n",
    "        f.write(image.value)\n",
    "\n",
    "def save_free():\n",
    "    global free_dir, free_count\n",
    "    save_snapshot(free_dir)\n",
    "    free_count.value = len(os.listdir(free_dir))\n",
    "    \n",
    "def save_blocked():\n",
    "    global blocked_dir, blocked_count\n",
    "    save_snapshot(blocked_dir)\n",
    "    blocked_count.value = len(os.listdir(blocked_dir))\n",
    "    \n",
    "# lampirkan \"callback\", kita menggunakan fungsi 'lambda'.\n",
    "# parameter yang akan diberikan oleh acara on_click ke fungsi kita\n",
    "\n",
    "free_button.on_click(lambda x: save_free())\n",
    "blocked_button.on_click(lambda x: save_blocked())"
   ]
  },
  {
   "cell_type": "markdown",
   "metadata": {},
   "source": [
    "Sekarang tombol di atas akan menyimpan gambar ke direktori ``free`` dan ``blocked``. Kita dapat menggunakan browser file Jupyter Lab untuk melihat file-file ini!\n",
    "\n",
    "Sekarang lanjutkan dan kumpulkan beberapa data\n",
    "\n",
    "1. Tempatkan robot dalam skenario di mana robot diblokir dan tekan ``tambahkan yang diblokir``\n",
    "2. Tempatkan robot dalam skenario gratis dan tekan ``add free``\n",
    "3. Ulangi 1, 2\n",
    "\n",
    "> PENGINGAT: Kita dapat memindahkan widget ke jendela baru dengan mengklik kanan sel dan mengklik ``Buat Tampilan Baru untuk Output``. Atau, Anda bisa menampilkannya kembali\n",
    "> bersama-sama seperti yang akan kita lakukan di bawah ini\n",
    "\n",
    "Berikut adalah beberapa tip untuk melabeli data\n",
    "\n",
    "1. Coba orientasi yang berbeda\n",
    "2. Coba pencahayaan yang berbeda\n",
    "3. Cobalah berbagai jenis objek/tabrakan; dinding, tepian, benda\n",
    "4. Coba lantai / benda bertekstur yang berbeda; bermotif, halus, kaca, dll.\n",
    "\n",
    "Pada akhirnya, semakin banyak data yang kita miliki tentang skenario yang akan dihadapi robot di dunia nyata, semakin baik perilaku menghindari tabrakan kita. Ini penting\n",
    "untuk mendapatkan *bervariasi* data (seperti yang dijelaskan oleh tip di atas) dan bukan hanya banyak data, tetapi Anda mungkin memerlukan setidaknya 100 gambar dari setiap kelas (itu bukan sains, hanya tip yang berguna di sini). Tapi jangan khawatir, itu berjalan cukup cepat begitu Anda mulai :)"
   ]
  },
  {
   "cell_type": "code",
   "execution_count": 6,
   "metadata": {},
   "outputs": [
    {
     "data": {
      "application/vnd.jupyter.widget-view+json": {
       "model_id": "5046ab58947348adac3fe02421fac4ed",
       "version_major": 2,
       "version_minor": 0
      },
      "text/plain": [
       "Image(value=b'\\xff\\xd8\\xff\\xe0\\x00\\x10JFIF\\x00\\x01\\x01\\x00\\x00\\x01\\x00\\x01\\x00\\x00\\xff\\xdb\\x00C\\x00\\x02\\x01\\x0…"
      ]
     },
     "metadata": {},
     "output_type": "display_data"
    },
    {
     "data": {
      "application/vnd.jupyter.widget-view+json": {
       "model_id": "dc8c65b94c2949ac9b5a30cd255955e0",
       "version_major": 2,
       "version_minor": 0
      },
      "text/plain": [
       "HBox(children=(IntText(value=1, layout=Layout(height='64px', width='128px')), Button(button_style='success', d…"
      ]
     },
     "metadata": {},
     "output_type": "display_data"
    },
    {
     "data": {
      "application/vnd.jupyter.widget-view+json": {
       "model_id": "c702435a09f342a7b2005ae73ccef188",
       "version_major": 2,
       "version_minor": 0
      },
      "text/plain": [
       "HBox(children=(IntText(value=0, layout=Layout(height='64px', width='128px')), Button(button_style='danger', de…"
      ]
     },
     "metadata": {},
     "output_type": "display_data"
    }
   ],
   "source": [
    "display(image)\n",
    "display(widgets.HBox([free_count, free_button]))\n",
    "display(widgets.HBox([blocked_count, blocked_button]))"
   ]
  },
  {
   "cell_type": "code",
   "execution_count": 3,
   "metadata": {},
   "outputs": [],
   "source": [
    "camera.stop()"
   ]
  }
 ],
 "metadata": {
  "kernelspec": {
   "display_name": "Python 3",
   "language": "python",
   "name": "python3"
  },
  "language_info": {
   "codemirror_mode": {
    "name": "ipython",
    "version": 3
   },
   "file_extension": ".py",
   "mimetype": "text/x-python",
   "name": "python",
   "nbconvert_exporter": "python",
   "pygments_lexer": "ipython3",
   "version": "3.6.9"
  }
 },
 "nbformat": 4,
 "nbformat_minor": 4
}
