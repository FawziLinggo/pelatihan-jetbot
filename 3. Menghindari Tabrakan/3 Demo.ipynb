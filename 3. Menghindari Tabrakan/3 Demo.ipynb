{
 "cells": [
  {
   "cell_type": "markdown",
   "id": "prepared-dealer",
   "metadata": {},
   "source": [
    "# Penghindaran Tabrakan - Demo(Resnet18)\n",
    "\n",
    "Dalam notebook ini kita akan menggunakan model yang kita latih untuk mendeteksi apakah robot ``free`` atau ``bloked`` untuk mengaktifkan perilaku menghindari tabrakan pada robot.\n",
    "\n",
    "## Memuauat model yang telah terlatih\n",
    "\n",
    "Kita akan berasumsi bahwa telah mengunduh ``best_model.pth`` ke workstation. Sekarang, Kita harus mengunggah model ini ke direktori buku catatan ini dengan menggunakan alat pengunggahan Jupyter Lab. Setelah selesai, seharusnya ada file bernama ``best_model.pth`` di direktori notebook ini.\n",
    "\n",
    "> Pastikan file sudah terupload lengkap sebelum memanggil sel berikutnya\n",
    "\n",
    "Jalankan kode di bawah ini untuk menginisialisasi model PyTorch. Ini akan terlihat sangat familiar dari buku catatan pelatihan."
   ]
  },
  {
   "cell_type": "code",
   "execution_count": 1,
   "id": "boring-ending",
   "metadata": {},
   "outputs": [],
   "source": [
    "import torch\n",
    "import torchvision\n",
    "\n",
    "model = torchvision.models.resnet18(pretrained=False)\n",
    "model.fc = torch.nn.Linear(512, 2)"
   ]
  },
  {
   "cell_type": "markdown",
   "id": "capable-concord",
   "metadata": {},
   "source": [
    "Selanjutnya, muat `trained weights` dari file ``best_model_resnet18.pth`` yang Anda unggah"
   ]
  },
  {
   "cell_type": "code",
   "execution_count": 2,
   "id": "future-welcome",
   "metadata": {},
   "outputs": [
    {
     "data": {
      "text/plain": [
       "<All keys matched successfully>"
      ]
     },
     "execution_count": 2,
     "metadata": {},
     "output_type": "execute_result"
    }
   ],
   "source": [
    "model.load_state_dict(torch.load('best_model_resnet18.pth'))"
   ]
  },
  {
   "cell_type": "markdown",
   "id": "empty-outline",
   "metadata": {},
   "source": [
    "Saat ini, model `weights` yang terletak di memori CPU. Kita akan mengeksekusi kode di bawah ini untuk ditransfer ke perangkat GPU."
   ]
  },
  {
   "cell_type": "code",
   "execution_count": 3,
   "id": "decent-wells",
   "metadata": {},
   "outputs": [],
   "source": [
    "device = torch.device('cuda')\n",
    "model = model.to(device)\n",
    "model = model.eval().half()"
   ]
  },
  {
   "cell_type": "markdown",
   "id": "suspended-pontiac",
   "metadata": {},
   "source": [
    "### Membuat fungsi pra-pemrosesan\n",
    "\n",
    "Kita sekarang telah memuat model, tetapi ada sedikit masalah. Format yang kita latih model kami tidak *persis* cocok dengan format kamera. Untuk melakukan itu, kita perlu melakukan beberapa *preprocessing*. Ini melibatkan langkah-langkah berikut:\n",
    "\n",
    "1. Konversi dari tata letak HWC ke tata letak CHW\n",
    "2. Normalisasi menggunakan parameter yang sama seperti yang kami lakukan selama pelatihan (kamera kami memberikan nilai dalam rentang [0, 255] dan gambar yang dimuat pelatihan dalam rentang [0, 1] sehingga kami perlu menskalakan 255,0\n",
    "3. Transfer data dari memori CPU ke memori GPU\n",
    "4. Tambahkan dimensi batch"
   ]
  },
  {
   "cell_type": "code",
   "execution_count": 4,
   "id": "pretty-handle",
   "metadata": {},
   "outputs": [],
   "source": [
    "import torchvision.transforms as transforms\n",
    "import torch.nn.functional as F\n",
    "import cv2\n",
    "import PIL.Image\n",
    "import numpy as np\n",
    "\n",
    "mean = torch.Tensor([0.485, 0.456, 0.406]).cuda().half()\n",
    "std = torch.Tensor([0.229, 0.224, 0.225]).cuda().half()\n",
    "\n",
    "normalize = torchvision.transforms.Normalize(mean, std)\n",
    "\n",
    "def preprocess(image):\n",
    "    image = PIL.Image.fromarray(image)\n",
    "    image = transforms.functional.to_tensor(image).to(device).half()\n",
    "    image.sub_(mean[:, None, None]).div_(std[:, None, None])\n",
    "    return image[None, ...]"
   ]
  },
  {
   "cell_type": "markdown",
   "id": "palestinian-taxation",
   "metadata": {},
   "source": [
    "Kita sekarang telah mendefinisikan fungsi pra-pemrosesan yang dapat mengonversi gambar dari format kamera ke format input jaringan saraf.\n",
    "\n",
    "Sekarang, mari kita mulai dan menampilkan kamera kita. Kita juga akan membuat penggeser yang akan menampilkan probabilitas bahwa robot diblokir. Kita juga akan menampilkan penggeser yang memungkinkan Kita mengontrol kecepatan dasar robot."
   ]
  },
  {
   "cell_type": "code",
   "execution_count": 5,
   "id": "fourth-serial",
   "metadata": {},
   "outputs": [
    {
     "data": {
      "application/vnd.jupyter.widget-view+json": {
       "model_id": "e072a10fa075448cae04ccf82fe7e8e2",
       "version_major": 2,
       "version_minor": 0
      },
      "text/plain": [
       "VBox(children=(HBox(children=(Image(value=b'\\xff\\xd8\\xff\\xe0\\x00\\x10JFIF\\x00\\x01\\x01\\x00\\x00\\x01\\x00\\x01\\x00\\x…"
      ]
     },
     "metadata": {},
     "output_type": "display_data"
    }
   ],
   "source": [
    "import traitlets\n",
    "from IPython.display import display\n",
    "import ipywidgets.widgets as widgets\n",
    "from jetbot import Camera, bgr8_to_jpeg\n",
    "\n",
    "camera = Camera.instance(width=224, height=224)\n",
    "image = widgets.Image(format='jpeg', width=224, height=224)\n",
    "blocked_slider = widgets.FloatSlider(description='blocked', min=0.0, max=1.0, orientation='vertical')\n",
    "speed_slider = widgets.FloatSlider(description='speed', min=0.0, max=0.5, value=0.0, step=0.01, orientation='horizontal')\n",
    "\n",
    "camera_link = traitlets.dlink((camera, 'value'), (image, 'value'), transform=bgr8_to_jpeg)\n",
    "\n",
    "display(widgets.VBox([widgets.HBox([image, blocked_slider]), speed_slider]))"
   ]
  },
  {
   "cell_type": "markdown",
   "id": "excessive-georgia",
   "metadata": {},
   "source": [
    "Kita juga akan membuat instance robot yang diperlukan untuk menggerakkan motor."
   ]
  },
  {
   "cell_type": "code",
   "execution_count": 6,
   "id": "fitted-lexington",
   "metadata": {},
   "outputs": [],
   "source": [
    "from jetbot import Robot\n",
    "\n",
    "robot = Robot()"
   ]
  },
  {
   "cell_type": "markdown",
   "id": "prescription-egypt",
   "metadata": {},
   "source": [
    "Selanjutnya, kita akan membuat fungsi yang akan dipanggil setiap kali nilai kamera berubah. Fungsi ini akan melakukan langkah-langkah berikut:\n",
    "\n",
    "1. Pra-proses gambar kamera\n",
    "2. Jalankan jaringan saraf\n",
    "3. Sementara output jaringan saraf menunjukkan bahwa kita diblokir, kita akan belok kiri, jika tidak kita maju."
   ]
  },
  {
   "cell_type": "code",
   "execution_count": 7,
   "id": "breathing-creek",
   "metadata": {},
   "outputs": [],
   "source": [
    "import torch.nn.functional as F\n",
    "import time\n",
    "\n",
    "def update(change):\n",
    "    global blocked_slider, robot\n",
    "    x = change['new'] \n",
    "    x = preprocess(x)\n",
    "    y = model(x)\n",
    "        \n",
    "    # kita menerapkan fungsi `softmax` untuk menormalkan vektor output sehingga berjumlah 1 (yang menjadikannya distribusi probabilitas)\n",
    "    y = F.softmax(y, dim=1)\n",
    "    \n",
    "    prob_blocked = float(y.flatten()[0])\n",
    "    \n",
    "    blocked_slider.value = prob_blocked\n",
    "    \n",
    "    if prob_blocked < 0.5:\n",
    "        robot.forward(speed_slider.value)\n",
    "    else:\n",
    "        robot.left(speed_slider.value)\n",
    "    \n",
    "    time.sleep(0.001)\n",
    "        \n",
    "update({'new': camera.value})  # kita memanggil fungsi sekali untuk menginisialisasi"
   ]
  },
  {
   "cell_type": "markdown",
   "id": "recent-beatles",
   "metadata": {},
   "source": [
    "Keren! Kita telah membuat fungsi eksekusi jaringan saraf (Neural Network), tetapi sekarang Kita perlu melampirkannya ke kamera untuk diproses.\n",
    "\n",
    "dengan melakukannya  fungsi ``observe``.\n",
    "\n",
    "> PERINGATAN: Kode ini dapat memindahkan robot!! Sesuaikan penggeser kecepatan yang telah kita tentukan sebelumnya untuk mengontrol kecepatan robot dasar. bergerak cepat, jadi mulailah dengan lambat, dan tingkatkan nilainya secara bertahap."
   ]
  },
  {
   "cell_type": "code",
   "execution_count": 8,
   "id": "muslim-stereo",
   "metadata": {},
   "outputs": [],
   "source": [
    "camera.observe(update, names='value')  # ini melampirkan fungsi 'update' ke sifat 'value' kamera "
   ]
  },
  {
   "cell_type": "markdown",
   "id": "crude-scout",
   "metadata": {},
   "source": [
    "Luar biasa!\n",
    "Jika Kita ingin menghentikan perilaku ini, Kita dapat melepaskan panggilan balik (callback) dengan menjalankan kode di bawah ini."
   ]
  },
  {
   "cell_type": "code",
   "execution_count": 9,
   "id": "behavioral-worcester",
   "metadata": {},
   "outputs": [],
   "source": [
    "import time\n",
    "\n",
    "camera.unobserve(update, names='value')\n",
    "\n",
    "time.sleep(0.1)  # tambahkan sedikit 'sleep' untuk memastikan bingkai telah selesai diproses\n",
    "\n",
    "robot.stop()"
   ]
  },
  {
   "cell_type": "markdown",
   "id": "reduced-rhythm",
   "metadata": {},
   "source": [
    "Mungkin Kita ingin robot berjalan tanpa streaming video ke browser. kita dapat memutuskan tautan kamera seperti di bawah ini."
   ]
  },
  {
   "cell_type": "code",
   "execution_count": null,
   "id": "starting-solomon",
   "metadata": {},
   "outputs": [],
   "source": [
    "camera_link.unlink()  # jangan streaming ke browser (Ketika kamera hidup)"
   ]
  },
  {
   "cell_type": "markdown",
   "id": "elect-evans",
   "metadata": {},
   "source": [
    "Sekali lagi, mari kita tutup koneksi kamera dengan benar agar kamera dapat digunakan di notebook lain."
   ]
  },
  {
   "cell_type": "code",
   "execution_count": null,
   "id": "advisory-psychiatry",
   "metadata": {},
   "outputs": [],
   "source": [
    "camera_link.link()  # streaming ke browser (tidak akan menjalankan kamera)"
   ]
  }
 ],
 "metadata": {
  "kernelspec": {
   "display_name": "Python 3",
   "language": "python",
   "name": "python3"
  },
  "language_info": {
   "codemirror_mode": {
    "name": "ipython",
    "version": 3
   },
   "file_extension": ".py",
   "mimetype": "text/x-python",
   "name": "python",
   "nbconvert_exporter": "python",
   "pygments_lexer": "ipython3",
   "version": "3.6.9"
  }
 },
 "nbformat": 4,
 "nbformat_minor": 5
}
