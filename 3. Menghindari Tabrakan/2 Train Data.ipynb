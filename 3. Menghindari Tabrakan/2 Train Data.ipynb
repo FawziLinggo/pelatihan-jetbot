{
 "cells": [
  {
   "cell_type": "markdown",
   "metadata": {},
   "source": [
    "# Penghindaran Tabrakan - Train Model (ResNet18)\n",
    "\n",
    "Kasli ini kita akan  melakukan training data foto yang telah kita ambil sebelumna.dengan  kita akan melatih pengklasifikasi gambar untuk mendeteksi dua kelas ``free`` dan ``bloked``, yang akan kita gunakan untuk menghindari tabrakan. Untuk ini, kita akan menggunakan lirary `deep learning` yang populer yaitu *PyTorch*"
   ]
  },
  {
   "cell_type": "code",
   "execution_count": 1,
   "metadata": {},
   "outputs": [],
   "source": [
    "import torch\n",
    "import torch.optim as optim\n",
    "import torch.nn.functional as F\n",
    "import torchvision\n",
    "import torchvision.datasets as datasets\n",
    "import torchvision.models as models\n",
    "import torchvision.transforms as transforms"
   ]
  },
  {
   "cell_type": "markdown",
   "metadata": {},
   "source": [
    "### Membuat contoh kumpulan data\n",
    "Sekarang kita menggunakan kelas dataset ``ImageFolder`` yang tersedia dengan paket ``torchvision.datasets``. kita melampirkan transformasi dari paket ``torchvision.transforms`` untuk menyiapkan data untuk pelatihan."
   ]
  },
  {
   "cell_type": "code",
   "execution_count": 2,
   "metadata": {},
   "outputs": [],
   "source": [
    "dataset = datasets.ImageFolder(\n",
    "    'dataset',\n",
    "    transforms.Compose([\n",
    "        transforms.ColorJitter(0.1, 0.1, 0.1, 0.1),\n",
    "        transforms.Resize((224, 224)),\n",
    "        transforms.ToTensor(),\n",
    "        transforms.Normalize([0.485, 0.456, 0.406], [0.229, 0.224, 0.225])\n",
    "    ])\n",
    ")"
   ]
  },
  {
   "cell_type": "markdown",
   "metadata": {},
   "source": [
    "### Pisahkan dataset menjadi set train dan test\n",
    "Selanjutnya, Kita akan membagi dataset menjadi set *training* dan *test*. Set tes akan digunakan untuk memverifikasi keakuratan model yang kita train."
   ]
  },
  {
   "cell_type": "code",
   "execution_count": 3,
   "metadata": {},
   "outputs": [],
   "source": [
    "train_dataset, test_dataset = torch.utils.data.random_split(dataset, [len(dataset) - 50, 50])"
   ]
  },
  {
   "cell_type": "markdown",
   "metadata": {},
   "source": [
    "### Membuat Data Loaders untuk memuat data dalam batch\n",
    "Kita akan membuat dua instance ``DataLoader``, yang menyediakan utilitas untuk mengacak data, menghasilkan *batch* gambar, dan memuat sampel secara paralel."
   ]
  },
  {
   "cell_type": "code",
   "execution_count": 4,
   "metadata": {},
   "outputs": [],
   "source": [
    "train_loader = torch.utils.data.DataLoader(\n",
    "    train_dataset,\n",
    "    batch_size=8,\n",
    "    shuffle=True,\n",
    "    num_workers=0,\n",
    ")\n",
    "\n",
    "test_loader = torch.utils.data.DataLoader(\n",
    "    test_dataset,\n",
    "    batch_size=8,\n",
    "    shuffle=True,\n",
    "    num_workers=0,\n",
    ")"
   ]
  },
  {
   "cell_type": "markdown",
   "metadata": {},
   "source": [
    "### Menentukan jaringan saraf (Neural Network)\n",
    "\n",
    "Sekarang, kita mendefinisikan jaringan saraf yang akan kita latih. Paket *torchvision* menyediakan kumpulan model *pra-trained* yang dapat kita gunakan.\n",
    "\n",
    "Dalam proses ini disebut *transfer learning*, kita dapat menggunakan kembali model yang telah dilatih sebelumnya (dilatih pada jutaan gambar) untuk tugas baru yang mungkin memiliki lebih sedikit data yang tersedia.\n",
    "\n",
    "Fitur penting yang dipelajari dalam pelatihan asli model pra-terlatih dapat digunakan kembali untuk tugas baru. Kita akan menggunakan model ``resnet18``."
   ]
  },
  {
   "cell_type": "code",
   "execution_count": 5,
   "metadata": {},
   "outputs": [],
   "source": [
    "model = models.resnet18(pretrained=True)"
   ]
  },
  {
   "cell_type": "markdown",
   "metadata": {},
   "source": [
    "Model ``resnet18`` awalnya dilatih untuk kumpulan data yang memiliki 1000 label kelas, tetapi kumpulan data kita hanya memiliki dua label kelas! Kita akan mengganti lapisan terakhir dengan lapisan baru yang tidak terlatih yang hanya memiliki dua keluaran."
   ]
  },
  {
   "cell_type": "code",
   "execution_count": 6,
   "metadata": {},
   "outputs": [],
   "source": [
    "model.fc = torch.nn.Linear(512, 2)"
   ]
  },
  {
   "cell_type": "markdown",
   "metadata": {},
   "source": [
    "Selanjutnya, Kita mentransfer model untuk dieksekusi di GPU"
   ]
  },
  {
   "cell_type": "code",
   "execution_count": 7,
   "metadata": {},
   "outputs": [],
   "source": [
    "device = torch.device('cuda')\n",
    "model = model.to(device)"
   ]
  },
  {
   "cell_type": "markdown",
   "metadata": {},
   "source": [
    "### Melatih jaringan saraf (Training Neural Network)\n",
    "\n",
    "Dengan menggunakan kode di bawah ini, kita akan melatih jaringan saraf selama 30 epoch, menyimpan model dengan performa terbaik setelah setiap epoch.\n",
    "\n",
    "> `Epoch` akan menjalankan penuh data kami."
   ]
  },
  {
   "cell_type": "code",
   "execution_count": 8,
   "metadata": {},
   "outputs": [
    {
     "name": "stdout",
     "output_type": "stream",
     "text": [
      "0: 0.820000\n",
      "1: 0.620000\n",
      "2: 0.940000\n",
      "3: 0.860000\n",
      "4: 0.940000\n",
      "5: 0.880000\n",
      "6: 0.920000\n",
      "7: 0.940000\n",
      "8: 0.980000\n",
      "9: 0.880000\n",
      "10: 0.940000\n",
      "11: 0.960000\n",
      "12: 0.980000\n",
      "13: 1.000000\n",
      "14: 0.900000\n",
      "15: 0.860000\n",
      "16: 0.960000\n",
      "17: 0.940000\n",
      "18: 1.000000\n",
      "19: 0.940000\n",
      "20: 0.940000\n",
      "21: 0.980000\n",
      "22: 0.980000\n",
      "23: 0.980000\n",
      "24: 1.000000\n",
      "25: 0.940000\n",
      "26: 1.000000\n",
      "27: 0.960000\n",
      "28: 0.940000\n",
      "29: 0.980000\n"
     ]
    }
   ],
   "source": [
    "NUM_EPOCHS = 30\n",
    "BEST_MODEL_PATH = 'best_model_resnet18.pth'\n",
    "best_accuracy = 0.0\n",
    "\n",
    "optimizer = optim.SGD(model.parameters(), lr=0.001, momentum=0.9)\n",
    "\n",
    "for epoch in range(NUM_EPOCHS):\n",
    "    \n",
    "    for images, labels in iter(train_loader):\n",
    "        images = images.to(device)\n",
    "        labels = labels.to(device)\n",
    "        optimizer.zero_grad()\n",
    "        outputs = model(images)\n",
    "        loss = F.cross_entropy(outputs, labels)\n",
    "        loss.backward()\n",
    "        optimizer.step()\n",
    "    \n",
    "    test_error_count = 0.0\n",
    "    for images, labels in iter(test_loader):\n",
    "        images = images.to(device)\n",
    "        labels = labels.to(device)\n",
    "        outputs = model(images)\n",
    "        test_error_count += float(torch.sum(torch.abs(labels - outputs.argmax(1))))\n",
    "    \n",
    "    test_accuracy = 1.0 - float(test_error_count) / float(len(test_dataset))\n",
    "    print('%d: %f' % (epoch, test_accuracy))\n",
    "    if test_accuracy > best_accuracy:\n",
    "        torch.save(model.state_dict(), BEST_MODEL_PATH)\n",
    "        best_accuracy = test_accuracy"
   ]
  },
  {
   "cell_type": "markdown",
   "metadata": {},
   "source": [
    "Setelah selesai, Anda akan melihat file ``best_model_resnet18.pth`` di browser file Jupyter Lab."
   ]
  },
  {
   "cell_type": "code",
   "execution_count": null,
   "metadata": {},
   "outputs": [],
   "source": []
  }
 ],
 "metadata": {
  "kernelspec": {
   "display_name": "Python 3",
   "language": "python",
   "name": "python3"
  },
  "language_info": {
   "codemirror_mode": {
    "name": "ipython",
    "version": 3
   },
   "file_extension": ".py",
   "mimetype": "text/x-python",
   "name": "python",
   "nbconvert_exporter": "python",
   "pygments_lexer": "ipython3",
   "version": "3.6.9"
  }
 },
 "nbformat": 4,
 "nbformat_minor": 4
}
